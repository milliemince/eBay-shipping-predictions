{
 "cells": [
  {
   "cell_type": "code",
   "execution_count": 1,
   "id": "819d66ff",
   "metadata": {},
   "outputs": [
    {
     "name": "stdout",
     "output_type": "stream",
     "text": [
      "Imports done\n"
     ]
    }
   ],
   "source": [
    "from sklearn.model_selection import train_test_split\n",
    "import numpy as np\n",
    "import pandas as pd\n",
    "import datetime as dt\n",
    "from catboost import CatBoostRegressor, Pool\n",
    "\n",
    "print(\"Imports done\")"
   ]
  },
  {
   "cell_type": "code",
   "execution_count": 2,
   "id": "6834a08f",
   "metadata": {},
   "outputs": [
    {
     "name": "stdout",
     "output_type": "stream",
     "text": [
      "data import done\n"
     ]
    }
   ],
   "source": [
    "# DATA CLEANING \n",
    "# dataset = pd.read_csv('/raid/cs152/eBay/eBay_ML_Challenge_Dataset_2021_train.csv')\n",
    "dataset = pd.read_csv('/raid/cs152/eBay/missing_data_dropped.csv') # , nrows=10000)\n",
    "\n",
    "b2c_c2c = np.array(dataset[\"b2c_c2c\"])\n",
    "seller_id = np.array(dataset[\"seller_id\"])\n",
    "declared_handling_days = np.array(dataset[\"declared_handling_days\"])\n",
    "shipment_method_id = np.array(dataset[\"shipment_method_id\"])\n",
    "shipping_fee = np.array(dataset[\"shipping_fee\"])\n",
    "carrier_min_estimate = np.array(dataset[\"carrier_min_estimate\"])\n",
    "carrier_max_estimate = np.array(dataset[\"carrier_max_estimate\"])\n",
    "item_zip = dataset[\"item_zip\"]\n",
    "buyer_zip = dataset[\"buyer_zip\"]\n",
    "category_id = np.array(dataset[\"category_id\"])\n",
    "item_price = np.array(dataset[\"item_price\"])\n",
    "quantity = np.array(dataset[\"quantity\"])\n",
    "weight = np.array(dataset[\"weight\"])\n",
    "package_size = np.array(dataset[\"package_size\"])\n",
    "record_number = np.array(dataset[\"record_number\"])\n",
    "zip_distance = np.array(dataset[\"zip_distance\"])\n",
    "item_zip_pop_density = np.array(dataset[\"item_zip_pop_density\"])\n",
    "item_zip_median_income = np.array(dataset[\"item_zip_median_income\"])\n",
    "buyer_zip_pop_density = np.array(dataset[\"buyer_zip_pop_density\"])\n",
    "buyer_zip_median_income = np.array(dataset[\"buyer_zip_median_income\"])\n",
    "handling_days = np.array(dataset[\"handling_days\"])\n",
    "delivery_days = np.array(dataset[\"delivery_days\"])\n",
    "\n",
    "features = np.column_stack((b2c_c2c, \n",
    "    seller_id, \n",
    "    declared_handling_days,\n",
    "    shipment_method_id, \n",
    "    shipping_fee,\n",
    "    carrier_min_estimate,\n",
    "    carrier_max_estimate, \n",
    "    item_zip, \n",
    "    buyer_zip, \n",
    "    category_id,\n",
    "    item_price, \n",
    "    quantity, \n",
    "    weight, \n",
    "    package_size, \n",
    "    record_number,\n",
    "    zip_distance, \n",
    "    item_zip_pop_density, \n",
    "    item_zip_median_income,\n",
    "    buyer_zip_pop_density, \n",
    "    buyer_zip_median_income, \n",
    "    handling_days))\n",
    "\n",
    "labels = np.array(delivery_days)\n",
    "\n",
    "print(\"data import done\")"
   ]
  },
  {
   "cell_type": "code",
   "execution_count": 3,
   "id": "03d9b5ba",
   "metadata": {},
   "outputs": [],
   "source": [
    "X = features\n",
    "y = labels\n",
    "X_train, X_test, y_train, y_test = train_test_split(X, y, train_size=0.75, random_state=42)"
   ]
  },
  {
   "cell_type": "markdown",
   "id": "0904008d",
   "metadata": {},
   "source": [
    "CAT_FEATURES are the catagorical features. early_stopping_rounds tells the model to stop if it doesn't\n",
    "improve for 10 rounds (stopping overfitting). "
   ]
  },
  {
   "cell_type": "code",
   "execution_count": 4,
   "id": "2d5357f7",
   "metadata": {
    "lines_to_next_cell": 2
   },
   "outputs": [
    {
     "name": "stdout",
     "output_type": "stream",
     "text": [
      "model initialized\n"
     ]
    }
   ],
   "source": [
    "CAT_FEATURES = [0, 1, 3, 7, 8, 9, 12, 13, 15]\n",
    "# b2c_c2c, seller_id, shipment_method_id, item_zip, buyer_zip, category_id, quantity,\n",
    "# weight, package_size, zip_distance\n",
    "\n",
    "model = CatBoostRegressor(iterations=600,\n",
    "                                   cat_features = CAT_FEATURES,\n",
    "                                   learning_rate = 0.375,\n",
    "                                   depth = 8,\n",
    "                                   l2_leaf_reg = 5,\n",
    "#                                    plot=True,\n",
    "                                   early_stopping_rounds = 20\n",
    "                         )\n",
    "print(\"model initialized\")"
   ]
  },
  {
   "cell_type": "markdown",
   "id": "5af67590",
   "metadata": {},
   "source": [
    "Below is hyperparameter tuning (commented out when running model)"
   ]
  },
  {
   "cell_type": "code",
   "execution_count": 5,
   "id": "419edbf9",
   "metadata": {},
   "outputs": [],
   "source": [
    "# grid = {'learning_rate': [0.36, 0.37, 0.375, 0.38, 0.385, 0.39, 0.4],\n",
    "#         'depth': [6, 7, 8, 9, 10, 11, 12],\n",
    "#         'l2_leaf_reg': [0, 1, 2, 3, 4, 5, 6]}\n",
    "\n",
    "# randomized_search_result = model.randomized_search(grid,\n",
    "#                                                    X=X_train,\n",
    "#                                                    y=y_train,\n",
    "#                                                    plot=True)\n",
    "# print(model.get_params())"
   ]
  },
  {
   "cell_type": "code",
   "execution_count": 6,
   "id": "4db8ab7f",
   "metadata": {},
   "outputs": [
    {
     "name": "stdout",
     "output_type": "stream",
     "text": [
      "Learning rate set to 0.095413\n",
      "0:\tlearn: 2.7886550\ttest: 3.1038113\tbest: 3.1038113 (0)\ttotal: 123ms\tremaining: 1m 13s\n",
      "1:\tlearn: 2.6752574\ttest: 2.9679964\tbest: 2.9679964 (1)\ttotal: 178ms\tremaining: 53.1s\n",
      "2:\tlearn: 2.5759752\ttest: 2.8672137\tbest: 2.8672137 (2)\ttotal: 220ms\tremaining: 43.7s\n",
      "3:\tlearn: 2.4869050\ttest: 2.7562896\tbest: 2.7562896 (3)\ttotal: 258ms\tremaining: 38.5s\n",
      "4:\tlearn: 2.4004503\ttest: 2.6835965\tbest: 2.6835965 (4)\ttotal: 306ms\tremaining: 36.4s\n",
      "5:\tlearn: 2.3295058\ttest: 2.6027499\tbest: 2.6027499 (5)\ttotal: 335ms\tremaining: 33.2s\n",
      "6:\tlearn: 2.2558571\ttest: 2.5278341\tbest: 2.5278341 (6)\ttotal: 386ms\tremaining: 32.7s\n",
      "7:\tlearn: 2.1899281\ttest: 2.4691480\tbest: 2.4691480 (7)\ttotal: 412ms\tremaining: 30.5s\n",
      "8:\tlearn: 2.1305715\ttest: 2.4100075\tbest: 2.4100075 (8)\ttotal: 442ms\tremaining: 29s\n",
      "9:\tlearn: 2.0839161\ttest: 2.3602400\tbest: 2.3602400 (9)\ttotal: 482ms\tremaining: 28.5s\n",
      "10:\tlearn: 2.0355173\ttest: 2.3189423\tbest: 2.3189423 (10)\ttotal: 511ms\tremaining: 27.3s\n",
      "11:\tlearn: 1.9889101\ttest: 2.2913500\tbest: 2.2913500 (11)\ttotal: 557ms\tremaining: 27.3s\n",
      "12:\tlearn: 1.9814818\ttest: 2.2765350\tbest: 2.2765350 (12)\ttotal: 575ms\tremaining: 25.9s\n",
      "13:\tlearn: 1.9448608\ttest: 2.2530831\tbest: 2.2530831 (13)\ttotal: 610ms\tremaining: 25.5s\n",
      "14:\tlearn: 1.9105001\ttest: 2.2121186\tbest: 2.2121186 (14)\ttotal: 651ms\tremaining: 25.4s\n",
      "15:\tlearn: 1.8836813\ttest: 2.1683140\tbest: 2.1683140 (15)\ttotal: 667ms\tremaining: 24.3s\n",
      "16:\tlearn: 1.8543937\ttest: 2.1381834\tbest: 2.1381834 (16)\ttotal: 706ms\tremaining: 24.2s\n",
      "17:\tlearn: 1.8242790\ttest: 2.1021517\tbest: 2.1021517 (17)\ttotal: 736ms\tremaining: 23.8s\n",
      "18:\tlearn: 1.8138893\ttest: 2.0941514\tbest: 2.0941514 (18)\ttotal: 799ms\tremaining: 24.4s\n",
      "19:\tlearn: 1.8076583\ttest: 2.0891116\tbest: 2.0891116 (19)\ttotal: 834ms\tremaining: 24.2s\n",
      "20:\tlearn: 1.8001874\ttest: 2.0856367\tbest: 2.0856367 (20)\ttotal: 863ms\tremaining: 23.8s\n",
      "21:\tlearn: 1.7923685\ttest: 2.0813226\tbest: 2.0813226 (21)\ttotal: 886ms\tremaining: 23.3s\n",
      "22:\tlearn: 1.7870795\ttest: 2.0797012\tbest: 2.0797012 (22)\ttotal: 915ms\tremaining: 23s\n",
      "23:\tlearn: 1.7677022\ttest: 2.0590930\tbest: 2.0590930 (23)\ttotal: 952ms\tremaining: 22.8s\n",
      "24:\tlearn: 1.7639193\ttest: 2.0590771\tbest: 2.0590771 (24)\ttotal: 980ms\tremaining: 22.5s\n",
      "25:\tlearn: 1.7545970\ttest: 2.0554433\tbest: 2.0554433 (25)\ttotal: 1.02s\tremaining: 22.6s\n",
      "26:\tlearn: 1.7490842\ttest: 2.0420209\tbest: 2.0420209 (26)\ttotal: 1.07s\tremaining: 22.7s\n",
      "27:\tlearn: 1.7330924\ttest: 2.0210119\tbest: 2.0210119 (27)\ttotal: 1.09s\tremaining: 22.4s\n",
      "28:\tlearn: 1.7198139\ttest: 2.0065119\tbest: 2.0065119 (28)\ttotal: 1.13s\tremaining: 22.2s\n",
      "29:\tlearn: 1.7162921\ttest: 2.0064874\tbest: 2.0064874 (29)\ttotal: 1.15s\tremaining: 21.8s\n",
      "30:\tlearn: 1.7026805\ttest: 1.9885391\tbest: 1.9885391 (30)\ttotal: 1.17s\tremaining: 21.5s\n",
      "31:\tlearn: 1.7002811\ttest: 1.9800947\tbest: 1.9800947 (31)\ttotal: 1.19s\tremaining: 21.2s\n",
      "32:\tlearn: 1.6975240\ttest: 1.9799444\tbest: 1.9799444 (32)\ttotal: 1.21s\tremaining: 20.7s\n",
      "33:\tlearn: 1.6939102\ttest: 1.9714848\tbest: 1.9714848 (33)\ttotal: 1.23s\tremaining: 20.5s\n",
      "34:\tlearn: 1.6888950\ttest: 1.9685555\tbest: 1.9685555 (34)\ttotal: 1.3s\tremaining: 21s\n",
      "35:\tlearn: 1.6858426\ttest: 1.9613160\tbest: 1.9613160 (35)\ttotal: 1.33s\tremaining: 20.9s\n",
      "36:\tlearn: 1.6828680\ttest: 1.9541116\tbest: 1.9541116 (36)\ttotal: 1.34s\tremaining: 20.4s\n",
      "37:\tlearn: 1.6744882\ttest: 1.9437099\tbest: 1.9437099 (37)\ttotal: 1.38s\tremaining: 20.4s\n",
      "38:\tlearn: 1.6721372\ttest: 1.9371859\tbest: 1.9371859 (38)\ttotal: 1.42s\tremaining: 20.4s\n",
      "39:\tlearn: 1.6698427\ttest: 1.9308313\tbest: 1.9308313 (39)\ttotal: 1.47s\tremaining: 20.6s\n",
      "40:\tlearn: 1.6679039\ttest: 1.9247046\tbest: 1.9247046 (40)\ttotal: 1.49s\tremaining: 20.3s\n",
      "41:\tlearn: 1.6660563\ttest: 1.9188096\tbest: 1.9188096 (41)\ttotal: 1.51s\tremaining: 20.1s\n",
      "42:\tlearn: 1.6548200\ttest: 1.9078116\tbest: 1.9078116 (42)\ttotal: 1.53s\tremaining: 19.9s\n",
      "43:\tlearn: 1.6510387\ttest: 1.9078095\tbest: 1.9078095 (43)\ttotal: 1.55s\tremaining: 19.6s\n",
      "44:\tlearn: 1.6440431\ttest: 1.9041855\tbest: 1.9041855 (44)\ttotal: 1.58s\tremaining: 19.6s\n",
      "45:\tlearn: 1.6353167\ttest: 1.8945587\tbest: 1.8945587 (45)\ttotal: 1.62s\tremaining: 19.5s\n",
      "46:\tlearn: 1.6337975\ttest: 1.8894541\tbest: 1.8894541 (46)\ttotal: 1.63s\tremaining: 19.1s\n",
      "47:\tlearn: 1.6302214\ttest: 1.8877347\tbest: 1.8877347 (47)\ttotal: 1.67s\tremaining: 19.2s\n",
      "48:\tlearn: 1.6239523\ttest: 1.8799168\tbest: 1.8799168 (48)\ttotal: 1.71s\tremaining: 19.2s\n",
      "49:\tlearn: 1.6180778\ttest: 1.8718070\tbest: 1.8718070 (49)\ttotal: 1.75s\tremaining: 19.2s\n",
      "50:\tlearn: 1.6165183\ttest: 1.8717991\tbest: 1.8717991 (50)\ttotal: 1.77s\tremaining: 19.1s\n",
      "51:\tlearn: 1.6151818\ttest: 1.8672256\tbest: 1.8672256 (51)\ttotal: 1.81s\tremaining: 19.1s\n",
      "52:\tlearn: 1.6103988\ttest: 1.8663085\tbest: 1.8663085 (52)\ttotal: 1.84s\tremaining: 19s\n",
      "53:\tlearn: 1.6040269\ttest: 1.8646327\tbest: 1.8646327 (53)\ttotal: 1.86s\tremaining: 18.8s\n",
      "54:\tlearn: 1.6029081\ttest: 1.8646253\tbest: 1.8646253 (54)\ttotal: 1.87s\tremaining: 18.5s\n",
      "55:\tlearn: 1.6018413\ttest: 1.8606468\tbest: 1.8606468 (55)\ttotal: 1.91s\tremaining: 18.5s\n",
      "56:\tlearn: 1.5958104\ttest: 1.8560863\tbest: 1.8560863 (56)\ttotal: 1.93s\tremaining: 18.4s\n",
      "57:\tlearn: 1.5908421\ttest: 1.8500095\tbest: 1.8500095 (57)\ttotal: 1.98s\tremaining: 18.5s\n",
      "58:\tlearn: 1.5884227\ttest: 1.8491274\tbest: 1.8491274 (58)\ttotal: 2s\tremaining: 18.3s\n",
      "59:\tlearn: 1.5862568\ttest: 1.8458798\tbest: 1.8458798 (59)\ttotal: 2.02s\tremaining: 18.2s\n",
      "60:\tlearn: 1.5836494\ttest: 1.8444050\tbest: 1.8444050 (60)\ttotal: 2.04s\tremaining: 18s\n",
      "61:\tlearn: 1.5813852\ttest: 1.8422688\tbest: 1.8422688 (61)\ttotal: 2.07s\tremaining: 18s\n",
      "62:\tlearn: 1.5799476\ttest: 1.8422234\tbest: 1.8422234 (62)\ttotal: 2.11s\tremaining: 18s\n",
      "63:\tlearn: 1.5791549\ttest: 1.8390160\tbest: 1.8390160 (63)\ttotal: 2.13s\tremaining: 17.9s\n",
      "64:\tlearn: 1.5744002\ttest: 1.8364021\tbest: 1.8364021 (64)\ttotal: 2.15s\tremaining: 17.7s\n",
      "65:\tlearn: 1.5703864\ttest: 1.8326525\tbest: 1.8326525 (65)\ttotal: 2.19s\tremaining: 17.7s\n",
      "66:\tlearn: 1.5654612\ttest: 1.8287511\tbest: 1.8287511 (66)\ttotal: 2.21s\tremaining: 17.6s\n",
      "67:\tlearn: 1.5647470\ttest: 1.8258135\tbest: 1.8258135 (67)\ttotal: 2.23s\tremaining: 17.4s\n",
      "68:\tlearn: 1.5637073\ttest: 1.8229623\tbest: 1.8229623 (68)\ttotal: 2.25s\tremaining: 17.3s\n",
      "69:\tlearn: 1.5602846\ttest: 1.8198768\tbest: 1.8198768 (69)\ttotal: 2.27s\tremaining: 17.2s\n",
      "70:\tlearn: 1.5596682\ttest: 1.8172003\tbest: 1.8172003 (70)\ttotal: 2.28s\tremaining: 17s\n",
      "71:\tlearn: 1.5590739\ttest: 1.8146057\tbest: 1.8146057 (71)\ttotal: 2.32s\tremaining: 17s\n",
      "72:\tlearn: 1.5554784\ttest: 1.8121828\tbest: 1.8121828 (72)\ttotal: 2.37s\tremaining: 17.1s\n",
      "73:\tlearn: 1.5539897\ttest: 1.8124962\tbest: 1.8121828 (72)\ttotal: 2.4s\tremaining: 17.1s\n",
      "74:\tlearn: 1.5506449\ttest: 1.8130473\tbest: 1.8121828 (72)\ttotal: 2.44s\tremaining: 17.1s\n",
      "75:\tlearn: 1.5496170\ttest: 1.8104890\tbest: 1.8104890 (75)\ttotal: 2.46s\tremaining: 16.9s\n",
      "76:\tlearn: 1.5461696\ttest: 1.8096983\tbest: 1.8096983 (76)\ttotal: 2.49s\tremaining: 16.9s\n",
      "77:\tlearn: 1.5442426\ttest: 1.8062690\tbest: 1.8062690 (77)\ttotal: 2.51s\tremaining: 16.8s\n",
      "78:\tlearn: 1.5420102\ttest: 1.8053261\tbest: 1.8053261 (78)\ttotal: 2.56s\tremaining: 16.9s\n",
      "79:\tlearn: 1.5415458\ttest: 1.8031764\tbest: 1.8031764 (79)\ttotal: 2.58s\tremaining: 16.8s\n",
      "80:\tlearn: 1.5393064\ttest: 1.8028428\tbest: 1.8028428 (80)\ttotal: 2.66s\tremaining: 17s\n",
      "81:\tlearn: 1.5367181\ttest: 1.8020781\tbest: 1.8020781 (81)\ttotal: 2.67s\tremaining: 16.9s\n",
      "82:\tlearn: 1.5340354\ttest: 1.8015599\tbest: 1.8015599 (82)\ttotal: 2.72s\tremaining: 16.9s\n",
      "83:\tlearn: 1.5335862\ttest: 1.8006460\tbest: 1.8006460 (83)\ttotal: 2.75s\tremaining: 16.9s\n",
      "84:\tlearn: 1.5305459\ttest: 1.7961298\tbest: 1.7961298 (84)\ttotal: 2.77s\tremaining: 16.8s\n",
      "85:\tlearn: 1.5297770\ttest: 1.7941950\tbest: 1.7941950 (85)\ttotal: 2.82s\tremaining: 16.8s\n",
      "86:\tlearn: 1.5290616\ttest: 1.7921405\tbest: 1.7921405 (86)\ttotal: 2.87s\tremaining: 16.9s\n",
      "87:\tlearn: 1.5286647\ttest: 1.7902938\tbest: 1.7902938 (87)\ttotal: 2.9s\tremaining: 16.9s\n",
      "88:\tlearn: 1.5282749\ttest: 1.7884907\tbest: 1.7884907 (88)\ttotal: 2.91s\tremaining: 16.7s\n",
      "89:\tlearn: 1.5270329\ttest: 1.7858345\tbest: 1.7858345 (89)\ttotal: 2.94s\tremaining: 16.6s\n",
      "90:\tlearn: 1.5246557\ttest: 1.7836129\tbest: 1.7836129 (90)\ttotal: 2.96s\tremaining: 16.5s\n",
      "91:\tlearn: 1.5228525\ttest: 1.7817600\tbest: 1.7817600 (91)\ttotal: 2.98s\tremaining: 16.5s\n",
      "92:\tlearn: 1.5225629\ttest: 1.7801666\tbest: 1.7801666 (92)\ttotal: 3s\tremaining: 16.3s\n",
      "93:\tlearn: 1.5213486\ttest: 1.7776128\tbest: 1.7776128 (93)\ttotal: 3.03s\tremaining: 16.3s\n",
      "94:\tlearn: 1.5210831\ttest: 1.7776117\tbest: 1.7776117 (94)\ttotal: 3.06s\tremaining: 16.3s\n",
      "95:\tlearn: 1.5194523\ttest: 1.7756191\tbest: 1.7756191 (95)\ttotal: 3.08s\tremaining: 16.2s\n",
      "96:\tlearn: 1.5178126\ttest: 1.7736299\tbest: 1.7736299 (96)\ttotal: 3.11s\tremaining: 16.1s\n",
      "97:\tlearn: 1.5165104\ttest: 1.7714115\tbest: 1.7714115 (97)\ttotal: 3.15s\tremaining: 16.1s\n",
      "98:\tlearn: 1.5145418\ttest: 1.7712614\tbest: 1.7712614 (98)\ttotal: 3.17s\tremaining: 16s\n",
      "99:\tlearn: 1.5126460\ttest: 1.7714134\tbest: 1.7712614 (98)\ttotal: 3.19s\tremaining: 16s\n",
      "100:\tlearn: 1.5122147\ttest: 1.7700944\tbest: 1.7700944 (100)\ttotal: 3.22s\tremaining: 15.9s\n"
     ]
    },
    {
     "name": "stdout",
     "output_type": "stream",
     "text": [
      "101:\tlearn: 1.5119242\ttest: 1.7686441\tbest: 1.7686441 (101)\ttotal: 3.25s\tremaining: 15.9s\n",
      "102:\tlearn: 1.5101867\ttest: 1.7675053\tbest: 1.7675053 (102)\ttotal: 3.29s\tremaining: 15.8s\n",
      "103:\tlearn: 1.5091582\ttest: 1.7658328\tbest: 1.7658328 (103)\ttotal: 3.32s\tremaining: 15.8s\n",
      "104:\tlearn: 1.5089609\ttest: 1.7645802\tbest: 1.7645802 (104)\ttotal: 3.33s\tremaining: 15.7s\n",
      "105:\tlearn: 1.5083289\ttest: 1.7636294\tbest: 1.7636294 (105)\ttotal: 3.35s\tremaining: 15.6s\n",
      "106:\tlearn: 1.5077975\ttest: 1.7624686\tbest: 1.7624686 (106)\ttotal: 3.38s\tremaining: 15.6s\n",
      "107:\tlearn: 1.5049593\ttest: 1.7619565\tbest: 1.7619565 (107)\ttotal: 3.42s\tremaining: 15.6s\n",
      "108:\tlearn: 1.5034779\ttest: 1.7619238\tbest: 1.7619238 (108)\ttotal: 3.45s\tremaining: 15.6s\n",
      "109:\tlearn: 1.5027049\ttest: 1.7607556\tbest: 1.7607556 (109)\ttotal: 3.47s\tremaining: 15.5s\n",
      "110:\tlearn: 1.4997697\ttest: 1.7605371\tbest: 1.7605371 (110)\ttotal: 3.52s\tremaining: 15.5s\n",
      "111:\tlearn: 1.4995326\ttest: 1.7605163\tbest: 1.7605163 (111)\ttotal: 3.59s\tremaining: 15.6s\n",
      "112:\tlearn: 1.4993584\ttest: 1.7603854\tbest: 1.7603854 (112)\ttotal: 3.63s\tremaining: 15.6s\n",
      "113:\tlearn: 1.4989359\ttest: 1.7594328\tbest: 1.7594328 (113)\ttotal: 3.7s\tremaining: 15.8s\n",
      "114:\tlearn: 1.4975048\ttest: 1.7580664\tbest: 1.7580664 (114)\ttotal: 3.75s\tremaining: 15.8s\n",
      "115:\tlearn: 1.4949871\ttest: 1.7572909\tbest: 1.7572909 (115)\ttotal: 3.83s\tremaining: 16s\n",
      "116:\tlearn: 1.4935762\ttest: 1.7564598\tbest: 1.7564598 (116)\ttotal: 3.85s\tremaining: 15.9s\n",
      "117:\tlearn: 1.4933651\ttest: 1.7554701\tbest: 1.7554701 (117)\ttotal: 3.89s\tremaining: 15.9s\n",
      "118:\tlearn: 1.4915970\ttest: 1.7537869\tbest: 1.7537869 (118)\ttotal: 3.94s\tremaining: 15.9s\n",
      "119:\tlearn: 1.4914124\ttest: 1.7528405\tbest: 1.7528405 (119)\ttotal: 3.99s\tremaining: 16s\n",
      "120:\tlearn: 1.4906251\ttest: 1.7523204\tbest: 1.7523204 (120)\ttotal: 4.05s\tremaining: 16s\n",
      "121:\tlearn: 1.4887987\ttest: 1.7522531\tbest: 1.7522531 (121)\ttotal: 4.11s\tremaining: 16.1s\n",
      "122:\tlearn: 1.4876879\ttest: 1.7515889\tbest: 1.7515889 (122)\ttotal: 4.17s\tremaining: 16.2s\n",
      "123:\tlearn: 1.4874972\ttest: 1.7506619\tbest: 1.7506619 (123)\ttotal: 4.23s\tremaining: 16.2s\n",
      "124:\tlearn: 1.4868960\ttest: 1.7498350\tbest: 1.7498350 (124)\ttotal: 4.29s\tremaining: 16.3s\n",
      "125:\tlearn: 1.4861630\ttest: 1.7492382\tbest: 1.7492382 (125)\ttotal: 4.34s\tremaining: 16.3s\n",
      "126:\tlearn: 1.4856329\ttest: 1.7490685\tbest: 1.7490685 (126)\ttotal: 4.37s\tremaining: 16.3s\n",
      "127:\tlearn: 1.4852245\ttest: 1.7488906\tbest: 1.7488906 (127)\ttotal: 4.39s\tremaining: 16.2s\n",
      "128:\tlearn: 1.4851239\ttest: 1.7480431\tbest: 1.7480431 (128)\ttotal: 4.41s\tremaining: 16.1s\n",
      "129:\tlearn: 1.4824705\ttest: 1.7479668\tbest: 1.7479668 (129)\ttotal: 4.46s\tremaining: 16.1s\n",
      "130:\tlearn: 1.4823539\ttest: 1.7471652\tbest: 1.7471652 (130)\ttotal: 4.49s\tremaining: 16.1s\n",
      "131:\tlearn: 1.4801277\ttest: 1.7470601\tbest: 1.7470601 (131)\ttotal: 4.55s\tremaining: 16.2s\n",
      "132:\tlearn: 1.4782272\ttest: 1.7474052\tbest: 1.7470601 (131)\ttotal: 4.62s\tremaining: 16.2s\n",
      "133:\tlearn: 1.4771848\ttest: 1.7470473\tbest: 1.7470473 (133)\ttotal: 4.64s\tremaining: 16.1s\n",
      "134:\tlearn: 1.4770510\ttest: 1.7462725\tbest: 1.7462725 (134)\ttotal: 4.67s\tremaining: 16.1s\n",
      "135:\tlearn: 1.4759535\ttest: 1.7460941\tbest: 1.7460941 (135)\ttotal: 4.7s\tremaining: 16s\n",
      "136:\tlearn: 1.4744802\ttest: 1.7445905\tbest: 1.7445905 (136)\ttotal: 4.74s\tremaining: 16s\n",
      "137:\tlearn: 1.4738822\ttest: 1.7444823\tbest: 1.7444823 (137)\ttotal: 4.77s\tremaining: 16s\n",
      "138:\tlearn: 1.4725552\ttest: 1.7443760\tbest: 1.7443760 (138)\ttotal: 4.82s\tremaining: 16s\n",
      "139:\tlearn: 1.4712766\ttest: 1.7443329\tbest: 1.7443329 (139)\ttotal: 4.84s\tremaining: 15.9s\n",
      "140:\tlearn: 1.4699511\ttest: 1.7443868\tbest: 1.7443329 (139)\ttotal: 4.86s\tremaining: 15.8s\n",
      "141:\tlearn: 1.4685394\ttest: 1.7446240\tbest: 1.7443329 (139)\ttotal: 4.91s\tremaining: 15.8s\n",
      "142:\tlearn: 1.4681607\ttest: 1.7445792\tbest: 1.7443329 (139)\ttotal: 4.93s\tremaining: 15.7s\n",
      "143:\tlearn: 1.4673035\ttest: 1.7439946\tbest: 1.7439946 (143)\ttotal: 4.97s\tremaining: 15.8s\n",
      "144:\tlearn: 1.4655915\ttest: 1.7435189\tbest: 1.7435189 (144)\ttotal: 4.99s\tremaining: 15.7s\n",
      "145:\tlearn: 1.4648605\ttest: 1.7435038\tbest: 1.7435038 (145)\ttotal: 5.01s\tremaining: 15.6s\n",
      "146:\tlearn: 1.4634136\ttest: 1.7435042\tbest: 1.7435038 (145)\ttotal: 5.04s\tremaining: 15.5s\n",
      "147:\tlearn: 1.4628692\ttest: 1.7429324\tbest: 1.7429324 (147)\ttotal: 5.11s\tremaining: 15.6s\n",
      "148:\tlearn: 1.4613747\ttest: 1.7426487\tbest: 1.7426487 (148)\ttotal: 5.16s\tremaining: 15.6s\n",
      "149:\tlearn: 1.4604301\ttest: 1.7422313\tbest: 1.7422313 (149)\ttotal: 5.23s\tremaining: 15.7s\n",
      "150:\tlearn: 1.4594357\ttest: 1.7415439\tbest: 1.7415439 (150)\ttotal: 5.26s\tremaining: 15.6s\n",
      "151:\tlearn: 1.4587715\ttest: 1.7412859\tbest: 1.7412859 (151)\ttotal: 5.33s\tremaining: 15.7s\n",
      "152:\tlearn: 1.4580525\ttest: 1.7413784\tbest: 1.7412859 (151)\ttotal: 5.38s\tremaining: 15.7s\n",
      "153:\tlearn: 1.4571890\ttest: 1.7414835\tbest: 1.7412859 (151)\ttotal: 5.43s\tremaining: 15.7s\n",
      "154:\tlearn: 1.4554795\ttest: 1.7416143\tbest: 1.7412859 (151)\ttotal: 5.46s\tremaining: 15.7s\n",
      "155:\tlearn: 1.4552046\ttest: 1.7416049\tbest: 1.7412859 (151)\ttotal: 5.49s\tremaining: 15.6s\n",
      "156:\tlearn: 1.4546710\ttest: 1.7417540\tbest: 1.7412859 (151)\ttotal: 5.51s\tremaining: 15.6s\n",
      "157:\tlearn: 1.4531421\ttest: 1.7428549\tbest: 1.7412859 (151)\ttotal: 5.53s\tremaining: 15.5s\n",
      "158:\tlearn: 1.4524772\ttest: 1.7428858\tbest: 1.7412859 (151)\ttotal: 5.55s\tremaining: 15.4s\n",
      "159:\tlearn: 1.4516115\ttest: 1.7422696\tbest: 1.7412859 (151)\ttotal: 5.58s\tremaining: 15.3s\n",
      "160:\tlearn: 1.4500869\ttest: 1.7421565\tbest: 1.7412859 (151)\ttotal: 5.6s\tremaining: 15.3s\n",
      "161:\tlearn: 1.4492111\ttest: 1.7417626\tbest: 1.7412859 (151)\ttotal: 5.62s\tremaining: 15.2s\n",
      "162:\tlearn: 1.4485191\ttest: 1.7417488\tbest: 1.7412859 (151)\ttotal: 5.68s\tremaining: 15.2s\n",
      "163:\tlearn: 1.4484007\ttest: 1.7411622\tbest: 1.7411622 (163)\ttotal: 5.7s\tremaining: 15.2s\n",
      "164:\tlearn: 1.4474590\ttest: 1.7409857\tbest: 1.7409857 (164)\ttotal: 5.74s\tremaining: 15.1s\n",
      "165:\tlearn: 1.4468201\ttest: 1.7403367\tbest: 1.7403367 (165)\ttotal: 5.77s\tremaining: 15.1s\n",
      "166:\tlearn: 1.4463131\ttest: 1.7401663\tbest: 1.7401663 (166)\ttotal: 5.8s\tremaining: 15s\n",
      "167:\tlearn: 1.4454479\ttest: 1.7399752\tbest: 1.7399752 (167)\ttotal: 5.82s\tremaining: 15s\n",
      "168:\tlearn: 1.4448880\ttest: 1.7397657\tbest: 1.7397657 (168)\ttotal: 5.83s\tremaining: 14.9s\n",
      "169:\tlearn: 1.4439012\ttest: 1.7392459\tbest: 1.7392459 (169)\ttotal: 5.93s\tremaining: 15s\n",
      "170:\tlearn: 1.4429595\ttest: 1.7393786\tbest: 1.7392459 (169)\ttotal: 5.95s\tremaining: 14.9s\n",
      "171:\tlearn: 1.4419407\ttest: 1.7394956\tbest: 1.7392459 (169)\ttotal: 5.99s\tremaining: 14.9s\n",
      "172:\tlearn: 1.4410044\ttest: 1.7389111\tbest: 1.7389111 (172)\ttotal: 6s\tremaining: 14.8s\n",
      "173:\tlearn: 1.4398547\ttest: 1.7385597\tbest: 1.7385597 (173)\ttotal: 6.03s\tremaining: 14.8s\n",
      "174:\tlearn: 1.4388662\ttest: 1.7382911\tbest: 1.7382911 (174)\ttotal: 6.06s\tremaining: 14.7s\n",
      "175:\tlearn: 1.4378039\ttest: 1.7377464\tbest: 1.7377464 (175)\ttotal: 6.08s\tremaining: 14.7s\n",
      "176:\tlearn: 1.4356927\ttest: 1.7378888\tbest: 1.7377464 (175)\ttotal: 6.11s\tremaining: 14.6s\n",
      "177:\tlearn: 1.4345805\ttest: 1.7378132\tbest: 1.7377464 (175)\ttotal: 6.14s\tremaining: 14.5s\n",
      "178:\tlearn: 1.4340470\ttest: 1.7379494\tbest: 1.7377464 (175)\ttotal: 6.18s\tremaining: 14.5s\n",
      "179:\tlearn: 1.4333390\ttest: 1.7377300\tbest: 1.7377300 (179)\ttotal: 6.2s\tremaining: 14.5s\n",
      "180:\tlearn: 1.4322600\ttest: 1.7381621\tbest: 1.7377300 (179)\ttotal: 6.22s\tremaining: 14.4s\n",
      "181:\tlearn: 1.4316474\ttest: 1.7386768\tbest: 1.7377300 (179)\ttotal: 6.25s\tremaining: 14.4s\n",
      "182:\tlearn: 1.4303524\ttest: 1.7380016\tbest: 1.7377300 (179)\ttotal: 6.28s\tremaining: 14.3s\n",
      "183:\tlearn: 1.4299280\ttest: 1.7383100\tbest: 1.7377300 (179)\ttotal: 6.31s\tremaining: 14.3s\n",
      "184:\tlearn: 1.4295194\ttest: 1.7383673\tbest: 1.7377300 (179)\ttotal: 6.34s\tremaining: 14.2s\n",
      "185:\tlearn: 1.4281759\ttest: 1.7380505\tbest: 1.7377300 (179)\ttotal: 6.38s\tremaining: 14.2s\n",
      "186:\tlearn: 1.4279356\ttest: 1.7381238\tbest: 1.7377300 (179)\ttotal: 6.41s\tremaining: 14.2s\n",
      "187:\tlearn: 1.4268735\ttest: 1.7379764\tbest: 1.7377300 (179)\ttotal: 6.43s\tremaining: 14.1s\n",
      "188:\tlearn: 1.4263167\ttest: 1.7383074\tbest: 1.7377300 (179)\ttotal: 6.46s\tremaining: 14.1s\n",
      "189:\tlearn: 1.4252773\ttest: 1.7382686\tbest: 1.7377300 (179)\ttotal: 6.49s\tremaining: 14s\n",
      "190:\tlearn: 1.4250993\ttest: 1.7382102\tbest: 1.7377300 (179)\ttotal: 6.51s\tremaining: 13.9s\n",
      "191:\tlearn: 1.4239385\ttest: 1.7381606\tbest: 1.7377300 (179)\ttotal: 6.53s\tremaining: 13.9s\n",
      "192:\tlearn: 1.4235884\ttest: 1.7383151\tbest: 1.7377300 (179)\ttotal: 6.58s\tremaining: 13.9s\n",
      "193:\tlearn: 1.4230178\ttest: 1.7381645\tbest: 1.7377300 (179)\ttotal: 6.59s\tremaining: 13.8s\n",
      "194:\tlearn: 1.4218236\ttest: 1.7381435\tbest: 1.7377300 (179)\ttotal: 6.61s\tremaining: 13.7s\n",
      "195:\tlearn: 1.4215015\ttest: 1.7380509\tbest: 1.7377300 (179)\ttotal: 6.64s\tremaining: 13.7s\n",
      "196:\tlearn: 1.4212176\ttest: 1.7382012\tbest: 1.7377300 (179)\ttotal: 6.67s\tremaining: 13.6s\n",
      "197:\tlearn: 1.4211254\ttest: 1.7377426\tbest: 1.7377300 (179)\ttotal: 6.68s\tremaining: 13.6s\n",
      "198:\tlearn: 1.4207571\ttest: 1.7377650\tbest: 1.7377300 (179)\ttotal: 6.7s\tremaining: 13.5s\n",
      "199:\tlearn: 1.4200169\ttest: 1.7380057\tbest: 1.7377300 (179)\ttotal: 6.74s\tremaining: 13.5s\n",
      "Stopped by overfitting detector  (20 iterations wait)\n",
      "\n",
      "bestTest = 1.737730005\n",
      "bestIteration = 179\n",
      "\n",
      "Shrink model to first 180 iterations.\n"
     ]
    },
    {
     "data": {
      "text/plain": [
       "<catboost.core.CatBoostRegressor at 0x7fbad2f6e640>"
      ]
     },
     "execution_count": 6,
     "metadata": {},
     "output_type": "execute_result"
    }
   ],
   "source": [
    "# train model\n",
    "model.fit(X_train, y_train, \n",
    "                   eval_set = (X_test, y_test),\n",
    "                   plot = False,\n",
    "         )"
   ]
  },
  {
   "cell_type": "code",
   "execution_count": 7,
   "id": "53777717",
   "metadata": {},
   "outputs": [
    {
     "name": "stdout",
     "output_type": "stream",
     "text": [
      "Feature importances:\n",
      "[ 0.14223713  1.36869959  0.6693801   4.98577403  0.88726613  0.27210673\n",
      "  2.04476949  1.94367819  0.          2.2418704   1.54731328  0.12207014\n",
      "  1.33833945  2.52961062  2.82506351  0.60155917  1.03869203  0.892147\n",
      "  1.39057771  1.26822872 71.89061659]\n"
     ]
    }
   ],
   "source": [
    "print(\"Feature importances:\")\n",
    "\n",
    "print(model.get_feature_importance(\n",
    "Pool(X_train, y_train, cat_features=CAT_FEATURES)))"
   ]
  },
  {
   "cell_type": "code",
   "execution_count": 8,
   "id": "ffdc51d5",
   "metadata": {},
   "outputs": [],
   "source": [
    "def evaluate_loss(preds, actual):\n",
    "    early_loss, late_loss = 0,0 \n",
    "    for i in range(len(preds)):\n",
    "        if preds[i] < actual[i]:\n",
    "            #early shipment\n",
    "            early_loss += actual[i] - preds[i]\n",
    "        elif preds[i] > actual[i]:\n",
    "            #late shipment\n",
    "            late_loss += preds[i] - actual[i]\n",
    "    loss = (1/len(preds)) * (0.4 * (early_loss) + 0.6 * (late_loss))\n",
    "    return loss"
   ]
  },
  {
   "cell_type": "markdown",
   "id": "09d2f77d",
   "metadata": {},
   "source": [
    "Below is evaluation of the model using the loss function from eBay\n"
   ]
  },
  {
   "cell_type": "code",
   "execution_count": 9,
   "id": "52376afa",
   "metadata": {},
   "outputs": [
    {
     "name": "stdout",
     "output_type": "stream",
     "text": [
      "train score: 0.754298014590224\n",
      "loss: 0.5122779711216804\n"
     ]
    }
   ],
   "source": [
    "train_score = model.score(X_train, y_train)\n",
    "print(\"train score: \" + str(train_score))\n",
    "pred = model.predict(X_test)\n",
    "loss = evaluate_loss(pred, y_test)\n",
    "print(\"loss: \" + str(loss))"
   ]
  }
 ],
 "metadata": {
  "jupytext": {
   "formats": "ipynb,py:percent"
  },
  "kernelspec": {
   "display_name": "Python 3 (ipykernel)",
   "language": "python",
   "name": "python3"
  },
  "language_info": {
   "codemirror_mode": {
    "name": "ipython",
    "version": 3
   },
   "file_extension": ".py",
   "mimetype": "text/x-python",
   "name": "python",
   "nbconvert_exporter": "python",
   "pygments_lexer": "ipython3",
   "version": "3.8.5"
  }
 },
 "nbformat": 4,
 "nbformat_minor": 5
}
