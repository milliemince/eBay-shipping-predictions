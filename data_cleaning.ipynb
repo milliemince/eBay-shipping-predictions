{
 "cells": [
  {
   "cell_type": "markdown",
   "id": "a660828c",
   "metadata": {},
   "source": [
    "## Data Cleaning"
   ]
  },
  {
   "cell_type": "code",
   "execution_count": 1,
   "id": "ed7670c1",
   "metadata": {},
   "outputs": [],
   "source": [
    "import numpy as np\n",
    "import pandas as pd\n",
    "import math\n",
    "import seaborn as sns\n",
    "import scipy as sp\n",
    "import datetime as dt\n",
    "from sklearn.linear_model import LinearRegression\n",
    "from sklearn.linear_model import Ridge\n",
    "from sklearn import linear_model\n",
    "from sklearn.svm import SVR\n",
    "from sklearn.preprocessing import normalize\n",
    "from sklearn.preprocessing import scale\n",
    "from collections import Counter\n",
    "import ziptotimezone as z\n",
    "from sklearn.model_selection import train_test_split\n",
    "import xgboost as xgb\n",
    "from sklearn.metrics import mean_squared_error\n",
    "import graphviz \n",
    "import matplotlib.pyplot as plt"
   ]
  },
  {
   "cell_type": "code",
   "execution_count": 2,
   "id": "606aaa56",
   "metadata": {},
   "outputs": [],
   "source": [
    "dataset = pd.read_csv('eBay_ML_Challenge_Dataset_2021_train.csv')\n",
    "\n",
    "b2c_c2c = np.array(dataset[\"b2c_c2c\"])\n",
    "seller_id = np.array(dataset[\"seller_id\"])\n",
    "declared_handling_days = np.array(dataset[\"declared_handling_days\"])\n",
    "acceptance_scan_timestamp = np.array(dataset[\"acceptance_scan_timestamp\"])\n",
    "shipment_method_id = np.array(dataset[\"shipment_method_id\"])\n",
    "shipping_fee = np.array(dataset[\"shipping_fee\"])\n",
    "carrier_min_estimate = np.array(dataset[\"carrier_min_estimate\"])\n",
    "carrier_max_estimate = np.array(dataset[\"carrier_max_estimate\"])\n",
    "item_zip = dataset[\"item_zip\"]\n",
    "buyer_zip = dataset[\"buyer_zip\"]\n",
    "category_id = np.array(dataset[\"category_id\"])\n",
    "item_price = np.array(dataset[\"item_price\"])\n",
    "quantity = np.array(dataset[\"quantity\"])\n",
    "payment_datetime = np.array(dataset[\"payment_datetime\"])\n",
    "delivery_date = np.array(dataset[\"delivery_date\"])\n",
    "weight = np.array(dataset[\"weight\"])\n",
    "weight_units = np.array(dataset[\"weight_units\"])\n",
    "package_size = np.array(dataset[\"package_size\"])"
   ]
  },
  {
   "cell_type": "markdown",
   "id": "32808e64",
   "metadata": {},
   "source": [
    "Encode b2c_c2c as numeric binary [0,1]"
   ]
  },
  {
   "cell_type": "code",
   "execution_count": 3,
   "id": "7d8d02af",
   "metadata": {},
   "outputs": [],
   "source": [
    "def b2c_c2c_to_binary(arr):\n",
    "    if arr[0] in [0,1]:\n",
    "        print(\"Array has already been converted to numeric binary!\")\n",
    "    else:\n",
    "        for i in range(arr.shape[0]):\n",
    "            if arr[i][0] == \"B\":\n",
    "                arr[i] = 0\n",
    "            else:\n",
    "                arr[i] = 1\n",
    "            \n",
    "b2c_c2c_to_binary(b2c_c2c)\n",
    "b2c_c2c = np.array(b2c_c2c, dtype=int)"
   ]
  },
  {
   "cell_type": "code",
   "execution_count": null,
   "id": "0cd1d1e0",
   "metadata": {},
   "outputs": [],
   "source": []
  },
  {
   "cell_type": "markdown",
   "id": "310141ad",
   "metadata": {},
   "source": [
    "Convert all times to the timezome of the buyer"
   ]
  },
  {
   "cell_type": "markdown",
   "id": "0e64a76b",
   "metadata": {},
   "source": [
    "Create labels for handling time (acceptance_scan_timestamp - payment_datetime), shipment time (delivery_date - acceptance_scan_timestamp), and total time (delivery_date - payment_datetime)"
   ]
  },
  {
   "cell_type": "code",
   "execution_count": 4,
   "id": "eefa5dd5",
   "metadata": {},
   "outputs": [],
   "source": [
    "def round_datetime_to_date(datetime):\n",
    "    days = datetime.days\n",
    "    hours = datetime.seconds // 3600\n",
    "    if hours > 12:\n",
    "        return days + 1\n",
    "    else:\n",
    "        return days\n",
    "\n",
    "def calculate_handling_and_delivery_days(acceptance_timestamps, payment_timestamps, delivery_date):\n",
    "    handling_labels = []\n",
    "    shipping_labels = []\n",
    "    delivery_labels = []\n",
    "    for i in range(acceptance_timestamps.shape[0]):\n",
    "        raw_payment = payment_timestamps[i]\n",
    "        raw_acceptance = acceptance_timestamps[i]\n",
    "        #parse raw_payment time string to separate year, month, date, and time\n",
    "        p_year, p_month, p_date = int(raw_payment[0:4]), int(raw_payment[5:7]), int(raw_payment[8:10])\n",
    "        p_hour, p_min, p_sec = int(raw_payment[11:13]), int(raw_payment[14:16]), int(raw_payment[17:19])\n",
    "        p_datetime = dt.datetime(year=p_year, month=p_month, day=p_date, hour=p_hour, minute=p_min, second=p_sec)\n",
    "            \n",
    "        #parse raw_acceptance time string to separate year, month, date, and time\n",
    "        raw_acceptance = acceptance_timestamps[i]\n",
    "        a_year, a_month, a_date = int(raw_acceptance[0:4]), int(raw_acceptance[5:7]), int(raw_acceptance[8:10])\n",
    "        a_hour, a_min, a_sec = int(raw_acceptance[11:13]), int(raw_acceptance[14:16]), int(raw_acceptance[17:19])\n",
    "        a_datetime = dt.datetime(year=a_year, month=a_month, day=a_date, hour=a_hour, minute=a_min, second=a_sec)\n",
    "        \n",
    "        raw_delivery = delivery_date[i]\n",
    "        d_year, d_month, d_date = int(raw_delivery[0:4]), int(raw_delivery[5:7]), int(raw_delivery[8:10])\n",
    "        d_date = dt.datetime(year=d_year, month=d_month, day=d_date, hour=17)\n",
    "        \n",
    "        #handling days = acceptance time - payment time; shipping days = delivery date - acceptance time\n",
    "        handling_days = a_datetime - p_datetime\n",
    "        shipping_days = d_date - a_datetime\n",
    "        delivery_days = d_date - p_datetime\n",
    "        \n",
    "        #round to nearest day\n",
    "        rounded_handling_days = round_datetime_to_date(handling_days)\n",
    "        rounded_shipping_days = round_datetime_to_date(shipping_days)\n",
    "        rounded_delivery_days = round_datetime_to_date(delivery_days)\n",
    "        \n",
    "        handling_labels.append(rounded_handling_days)\n",
    "        shipping_labels.append(rounded_shipping_days)\n",
    "        delivery_labels.append(rounded_delivery_days)\n",
    "        \n",
    "    return np.array(handling_labels), np.array(shipping_labels), np.array(delivery_labels)"
   ]
  },
  {
   "cell_type": "code",
   "execution_count": 5,
   "id": "12335f7f",
   "metadata": {},
   "outputs": [],
   "source": [
    "handling_days, shipping_days, delivery_days = calculate_handling_and_delivery_days(acceptance_scan_timestamp, payment_datetime, delivery_date)"
   ]
  },
  {
   "cell_type": "markdown",
   "id": "cb563e8e",
   "metadata": {},
   "source": [
    "Quantify distance between buyer and seller using zipcode"
   ]
  },
  {
   "cell_type": "code",
   "execution_count": 6,
   "id": "eddcabf4",
   "metadata": {},
   "outputs": [
    {
     "name": "stdout",
     "output_type": "stream",
     "text": [
      "45.45, -122.7\n",
      "41.97, -85.34\n",
      "40.71, -73.83\n",
      "39.8, -89.0\n",
      "35.7, -80.2\n",
      "43.6, -88.3\n",
      "33.87, -118.07\n",
      "39.9, -104.8\n",
      "33.87, -118.07\n",
      "45.4, -93.4\n",
      "39.97, -83.03\n",
      "29.74, -95.52\n",
      "34.23, -118.63\n",
      "41.72, -88.11\n",
      "45.0, -84.6\n",
      "34.7, -81.6\n",
      "41.67, -83.6\n",
      "27.8, -80.49\n",
      "33.66, -86.88\n",
      "37.64, -112.1\n",
      "35.35, -119.06\n",
      "38.89, -76.77\n",
      "42.8, -96.2\n",
      "35.5, -81.3\n",
      "29.65, -95.48\n",
      "40.0, -84.2\n",
      "34.02, -117.85\n",
      "35.8, -79.8\n",
      "29.68, -82.39\n",
      "25.82, -80.31\n",
      "44.2, -70.6\n",
      "38.0, -92.1\n",
      "38.89, -76.9\n",
      "37.33, -121.84\n",
      "29.5, -95.9\n",
      "44.83, -93.27\n",
      "43.6, -116.4\n",
      "29.3, -96.1\n",
      "39.6, -74.6\n",
      "39.9, -78.6\n",
      "39.7, -121.8\n",
      "39.9, -121.8\n",
      "29.16, -81.03\n",
      "43.3, -112.4\n",
      "33.71, -117.31\n",
      "41.49, -73.94\n",
      "None, None\n",
      "39.4, -104.5\n",
      "None, None\n",
      "37.9, -97.3\n",
      "34.07, -118.01\n",
      "31.8, -97.1\n",
      "34.07, -118.01\n",
      "27.1, -80.5\n",
      "34.1, -118.42\n",
      "34.15, -118.49\n",
      "44.3, -88.6\n",
      "32.78, -79.93\n",
      "39.8, -76.0\n",
      "42.9, -89.6\n",
      "28.9, -82.6\n",
      "33.4, -84.6\n",
      "45.9, -89.5\n",
      "45.6, -70.3\n",
      "43.1, -78.96\n",
      "36.7, -86.6\n",
      "29.86, -95.34\n",
      "28.73, -81.51\n",
      "42.8, -96.2\n",
      "40.1, -89.4\n",
      "42.8, -96.2\n",
      "40.2, -84.2\n",
      "35.6, -82.6\n",
      "33.2, -95.6\n",
      "40.96, -74.12\n",
      "34.06, -118.31\n",
      "33.75, -117.17\n",
      "25.85, -80.18\n",
      "42.8, -96.2\n",
      "39.23, -77.15\n",
      "36.22, -80.84\n",
      "34.0, -118.29\n",
      "29.75, -95.49\n",
      "38.41, -78.86\n",
      "44.5, -93.6\n",
      "32.71, -97.34\n",
      "39.74, -86.17\n",
      "33.63, -78.96\n",
      "25.99, -80.15\n",
      "38.42, -82.73\n",
      "44.2, -73.6\n",
      "31.98, -102.13\n",
      "33.51, -86.74\n",
      "32.4, -80.5\n",
      "33.74, -117.81\n",
      "42.9, -75.0\n",
      "41.67, -88.22\n",
      "None, None\n",
      "34.0, -117.98\n",
      "27.79, -82.68\n",
      "40.72, -74.15\n",
      "30.82, -97.6\n",
      "34.44, -117.62\n",
      "41.28, -75.89\n",
      "26.19, -80.11\n",
      "33.28, -111.74\n",
      "None, None\n",
      "41.63, -83.75\n",
      "34.0, -117.98\n",
      "43.7, -86.3\n",
      "44.7, -93.6\n",
      "38.61, -121.45\n",
      "42.3, -124.1\n",
      "42.53, -73.84\n",
      "43.01, -78.96\n",
      "33.64, -86.7\n",
      "44.3, -85.5\n",
      "42.91, -82.48\n",
      "42.79, -71.13\n",
      "40.82, -74.37\n",
      "33.74, -117.81\n",
      "34.06, -118.08\n",
      "33.74, -117.81\n",
      "43.2, -84.1\n",
      "42.6, -83.18\n",
      "44.3, -89.1\n",
      "34.02, -117.85\n",
      "25.82, -80.31\n",
      "33.81, -117.81\n",
      "37.2, -86.3\n",
      "40.06, -75.08\n",
      "44.3, -83.5\n",
      "33.84, -118.35\n",
      "47.5, -111.4\n",
      "42.93, -85.65\n",
      "32.5, -96.4\n",
      "42.01, -87.99\n",
      "40.71, -73.24\n",
      "41.67, -88.22\n",
      "30.38, -97.96\n",
      "43.06, -73.93\n",
      "41.46, -72.81\n",
      "45.41, -122.8\n",
      "40.9, -111.9\n",
      "41.6, -72.5\n",
      "43.0, -110.0\n",
      "45.16, -93.32\n",
      "44.2, -86.2\n",
      "43.4, -86.3\n",
      "34.24, -83.89\n",
      "30.4, -87.1\n",
      "37.57, -121.99\n",
      "35.5, -81.8\n",
      "33.6, -98.0\n",
      "38.4, -91.0\n",
      "35.7, -95.5\n",
      "31.3, -81.5\n",
      "35.25, -97.46\n",
      "30.4, -87.1\n",
      "42.0, -88.7\n",
      "42.79, -73.72\n",
      "28.99, -82.52\n",
      "28.9, -82.6\n",
      "27.32, -80.35\n",
      "26.82, -80.21\n",
      "None, None\n",
      "42.63, -71.39\n",
      "33.94, -117.95\n",
      "33.6, -88.4\n",
      "32.75, -96.77\n",
      "42.8, -96.2\n",
      "42.65, -71.92\n",
      "26.82, -80.21\n",
      "40.9, -81.43\n",
      "32.5, -95.9\n",
      "43.13, -77.61\n",
      "32.5, -114.7\n",
      "32.81, -97.36\n",
      "35.6, -118.9\n",
      "39.89, -75.24\n",
      "38.2, -75.2\n",
      "32.1, -95.9\n",
      "36.1, -96.4\n",
      "48.8, -116.5\n",
      "43.6, -116.4\n",
      "39.5, -84.2\n",
      "40.6, -111.83\n",
      "41.6, -86.3\n",
      "40.6, -111.83\n",
      "39.28, -76.53\n",
      "40.6, -111.83\n",
      "32.6, -117.0\n",
      "33.85, -117.79\n",
      "36.3, -88.4\n",
      "33.85, -117.79\n",
      "48.1, -113.8\n",
      "42.87, -85.66\n",
      "37.8, -122.1\n",
      "33.75, -117.17\n",
      "41.24, -96.0\n",
      "35.4, -119.12\n",
      "48.4, -122.4\n",
      "35.6, -82.6\n",
      "39.22, -94.75\n",
      "31.3, -81.5\n",
      "42.13, -87.77\n",
      "35.23, -80.84\n",
      "29.77, -95.16\n",
      "33.62, -86.76\n",
      "37.69, -97.11\n",
      "25.6, -80.49\n",
      "34.01, -118.11\n",
      "32.61, -96.87\n",
      "37.8, -84.9\n",
      "32.61, -96.87\n",
      "37.1, -77.4\n",
      "32.61, -96.87\n",
      "39.96, -76.73\n",
      "41.5, -72.7\n",
      "40.53, -75.12\n",
      "40.06, -104.95\n",
      "37.4, -122.3\n",
      "28.7, -81.5\n",
      "None, None\n",
      "41.78, -111.81\n",
      "40.5, -111.5\n",
      "33.84, -118.35\n",
      "32.0, -106.9\n",
      "38.4, -91.0\n",
      "32.5, -96.8\n",
      "42.01, -87.99\n",
      "39.3, -84.6\n",
      "42.01, -87.99\n",
      "26.57, -81.94\n",
      "42.01, -87.99\n",
      "34.6, -97.4\n",
      "42.01, -87.99\n",
      "42.65, -82.93\n",
      "35.6, -118.9\n",
      "32.96, -96.65\n",
      "37.44, -121.84\n",
      "40.72, -73.86\n",
      "34.04, -117.99\n",
      "35.6, -80.4\n",
      "34.04, -117.99\n",
      "37.32, -121.93\n",
      "25.6, -80.6\n",
      "33.93, -117.36\n",
      "40.76, -73.32\n",
      "32.37, -90.17\n",
      "33.76, -84.65\n",
      "47.87, -122.26\n",
      "37.44, -121.84\n",
      "34.16, -117.71\n",
      "30.37, -97.64\n",
      "40.48, -74.44\n",
      "34.29, -118.5\n",
      "30.1, -96.1\n",
      "41.6, -70.56\n",
      "33.87, -118.07\n",
      "33.71, -116.99\n",
      "38.4, -84.5\n",
      "37.69, -122.44\n",
      "43.07, -76.15\n",
      "41.71, -87.76\n",
      "38.9, -121.3\n",
      "40.1, -83.01\n",
      "32.0, -102.0\n",
      "30.37, -97.64\n",
      "39.95, -104.8\n",
      "32.95, -96.72\n",
      "40.87, -74.84\n",
      "37.44, -121.84\n",
      "28.21, -82.3\n",
      "26.61, -80.06\n",
      "41.84, -87.83\n",
      "43.18, -86.19\n",
      "35.7, -80.9\n",
      "40.76, -73.32\n",
      "35.4, -96.1\n",
      "37.44, -121.84\n",
      "35.9, -80.1\n",
      "36.15, -80.33\n",
      "35.9, -94.3\n",
      "26.38, -80.17\n",
      "42.2, -85.9\n",
      "40.4, -74.11\n",
      "37.4, -120.5\n",
      "40.2, -74.17\n",
      "40.19, -75.15\n",
      "27.79, -82.73\n",
      "30.0, -93.2\n",
      "34.76, -92.29\n",
      "40.57, -74.13\n",
      "37.52, -121.9\n",
      "34.06, -117.18\n",
      "42.6, -83.9\n",
      "29.41, -97.61\n",
      "None, None\n",
      "37.7, -109.9\n",
      "34.8, -82.7\n",
      "43.76, -87.71\n",
      "41.5, -72.7\n",
      "32.1, -96.0\n",
      "40.64, -74.02\n",
      "33.89, -117.33\n",
      "41.17, -73.28\n",
      "40.69, -73.82\n",
      "40.76, -73.32\n",
      "43.3, -122.6\n",
      "34.09, -117.97\n",
      "41.8, -88.35\n",
      "34.09, -117.97\n",
      "40.2, -105.2\n",
      "34.09, -117.97\n",
      "35.44, -97.44\n",
      "34.09, -117.97\n",
      "32.86, -83.67\n",
      "42.8, -96.2\n",
      "42.7, -91.5\n",
      "27.33, -82.35\n",
      "33.5, -98.5\n",
      "42.31, -71.8\n",
      "36.84, -119.8\n",
      "33.12, -96.69\n",
      "40.64, -80.08\n",
      "46.6, -120.8\n",
      "47.37, -122.72\n",
      "40.76, -73.77\n",
      "32.6, -117.0\n",
      "40.76, -73.77\n",
      "41.12, -74.05\n",
      "39.8, -105.3\n",
      "34.13, -77.86\n",
      "40.7, -73.88\n",
      "38.92, -94.7\n",
      "34.16, -118.55\n",
      "39.04, -95.73\n",
      "42.8, -96.2\n",
      "33.4, -90.7\n",
      "39.79, -86.29\n",
      "46.32, -119.4\n",
      "34.42, -118.61\n",
      "30.23, -94.2\n",
      "33.74, -117.81\n",
      "41.39, -81.64\n",
      "28.9, -82.6\n",
      "29.6, -83.1\n",
      "32.5, -86.1\n",
      "None, None\n",
      "32.5, -86.1\n",
      "34.02, -117.85\n",
      "41.95, -87.75\n",
      "40.58, -73.99\n",
      "47.36, -122.87\n",
      "41.93, -87.89\n",
      "40.81, -72.85\n",
      "33.85, -117.96\n",
      "36.9, -119.6\n",
      "38.35, -76.57\n",
      "36.9, -119.6\n",
      "39.48, -77.89\n",
      "36.9, -119.6\n",
      "35.7, -78.5\n",
      "36.9, -119.6\n",
      "35.17, -85.21\n",
      "40.2, -74.17\n",
      "36.7, -90.5\n",
      "35.35, -119.06\n",
      "37.76, -122.16\n",
      "37.27, -122.05\n",
      "36.15, -80.33\n",
      "41.64, -81.37\n",
      "41.7, -80.7\n",
      "44.3, -85.5\n",
      "36.2, -83.0\n",
      "25.79, -80.36\n",
      "31.8, -106.1\n",
      "41.3, -74.2\n",
      "44.08, -92.51\n",
      "46.5, -90.2\n",
      "45.02, -93.24\n",
      "39.11, -77.25\n",
      "42.08, -87.82\n",
      "33.92, -118.27\n",
      "35.57, -80.89\n",
      "33.92, -118.27\n",
      "36.6, -119.9\n",
      "28.7, -81.5\n",
      "39.04, -76.81\n",
      "27.22, -82.47\n",
      "42.2, -89.2\n",
      "40.09, -75.04\n",
      "41.0, -78.2\n",
      "40.09, -75.04\n",
      "34.2, -97.4\n",
      "41.9, -87.64\n",
      "40.26, -74.76\n",
      "34.29, -118.5\n",
      "33.8, -82.4\n",
      "29.68, -82.39\n",
      "46.9, -96.1\n",
      "40.75, -73.99\n",
      "43.75, -70.27\n",
      "33.7, -86.9\n",
      "42.9, -76.8\n",
      "25.94, -80.14\n",
      "29.91, -95.64\n",
      "40.57, -80.15\n",
      "40.55, -80.05\n",
      "25.79, -80.36\n",
      "40.78, -73.19\n",
      "34.1, -118.05\n",
      "44.45, -73.18\n",
      "34.07, -117.7\n",
      "44.1, -70.2\n",
      "40.04, -75.07\n",
      "25.7, -80.41\n",
      "41.4, -87.3\n",
      "38.4, -77.4\n",
      "28.1, -82.69\n",
      "35.09, -106.51\n",
      "35.81, -78.89\n",
      "40.69, -73.93\n",
      "42.95, -87.94\n",
      "39.0, -85.6\n",
      "39.78, -75.05\n",
      "39.84, -84.11\n",
      "26.02, -80.15\n",
      "39.28, -85.77\n",
      "26.02, -80.15\n",
      "40.58, -73.95\n",
      "34.044, -118.252\n",
      "29.3, -81.2\n",
      "40.82, -74.37\n",
      "33.63, -117.8\n",
      "37.51, -121.99\n",
      "34.0, -118.21\n",
      "40.7, -73.88\n",
      "38.3, -77.49\n",
      "41.71, -85.8\n",
      "41.5, -81.0\n",
      "28.61, -81.3\n",
      "32.3, -86.1\n",
      "40.76, -73.32\n",
      "25.77, -80.23\n",
      "34.03, -118.4\n",
      "32.8, -83.69\n",
      "26.25, -80.09\n",
      "39.64, -85.99\n",
      "36.9, -119.6\n",
      "39.3, -75.9\n",
      "41.93, -87.89\n",
      "35.2, -90.2\n",
      "26.07, -80.22\n",
      "32.81, -117.14\n",
      "37.3, -93.3\n",
      "41.4, -85.3\n",
      "32.5, -86.1\n",
      "33.61, -111.89\n",
      "47.39, -122.31\n",
      "39.2, -120.4\n",
      "34.2, -88.0\n",
      "32.77, -117.21\n",
      "38.76, -77.31\n",
      "34.01, -118.11\n",
      "33.74, -117.81\n",
      "41.66, -93.63\n",
      "26.25, -80.09\n",
      "47.1, -122.4\n",
      "33.71, -117.76\n",
      "42.27, -83.13\n",
      "40.86, -74.05\n",
      "41.67, -70.94\n",
      "30.4, -87.1\n",
      "38.2, -86.2\n",
      "30.4, -87.1\n",
      "29.3, -81.2\n",
      "35.4, -119.12\n",
      "30.43, -97.6\n",
      "35.4, -119.12\n",
      "39.54, -104.88\n",
      "35.4, -119.12\n",
      "39.5, -104.8\n",
      "35.4, -119.12\n",
      "39.49, -76.66\n",
      "34.044, -118.252\n",
      "34.76, -92.29\n",
      "36.6, -76.3\n",
      "45.8, -92.7\n",
      "36.6, -76.3\n",
      "35.8, -79.2\n",
      "37.51, -121.99\n",
      "44.0, -75.6\n",
      "37.51, -121.99\n",
      "39.1, -78.8\n",
      "42.95, -87.94\n",
      "33.3, -96.6\n",
      "38.38, -75.64\n",
      "31.65, -106.27\n",
      "33.7, -85.7\n",
      "33.7, -88.7\n",
      "42.8, -85.7\n",
      "28.18, -80.6\n",
      "36.46, -94.3\n",
      "35.2, -91.7\n",
      "34.09, -118.1\n",
      "33.78, -117.84\n",
      "33.95, -117.73\n",
      "47.67, -122.34\n",
      "33.02, -96.75\n",
      "42.2, -123.3\n",
      "32.6, -82.4\n",
      "40.41, -75.52\n",
      "None, None\n",
      "36.27, -115.11\n",
      "42.63, -71.39\n",
      "33.9, -118.17\n",
      "34.01, -117.7\n",
      "45.5, -90.7\n",
      "46.2, -123.1\n",
      "47.02, -122.29\n",
      "30.82, -97.6\n",
      "None, None\n"
     ]
    },
    {
     "ename": "IndexError",
     "evalue": "string index out of range",
     "output_type": "error",
     "traceback": [
      "\u001b[0;31m---------------------------------------------------------------------------\u001b[0m",
      "\u001b[0;31mIndexError\u001b[0m                                Traceback (most recent call last)",
      "\u001b[0;32m/tmp/ipykernel_1433270/2669380781.py\u001b[0m in \u001b[0;36m<module>\u001b[0;34m\u001b[0m\n\u001b[1;32m     40\u001b[0m     \u001b[0;32mreturn\u001b[0m \u001b[0mzips\u001b[0m\u001b[0;34m[\u001b[0m\u001b[0;34m'distance'\u001b[0m\u001b[0;34m]\u001b[0m\u001b[0;34m\u001b[0m\u001b[0;34m\u001b[0m\u001b[0m\n\u001b[1;32m     41\u001b[0m \u001b[0;34m\u001b[0m\u001b[0m\n\u001b[0;32m---> 42\u001b[0;31m \u001b[0mzips\u001b[0m \u001b[0;34m=\u001b[0m \u001b[0madd_zip_distance_column\u001b[0m\u001b[0;34m(\u001b[0m\u001b[0mitem_zip\u001b[0m\u001b[0;34m,\u001b[0m \u001b[0mbuyer_zip\u001b[0m\u001b[0;34m)\u001b[0m\u001b[0;34m\u001b[0m\u001b[0;34m\u001b[0m\u001b[0m\n\u001b[0m",
      "\u001b[0;32m/tmp/ipykernel_1433270/2669380781.py\u001b[0m in \u001b[0;36madd_zip_distance_column\u001b[0;34m(item_zip, buyer_zip)\u001b[0m\n\u001b[1;32m     36\u001b[0m     \u001b[0mzips\u001b[0m \u001b[0;34m=\u001b[0m \u001b[0mpd\u001b[0m\u001b[0;34m.\u001b[0m\u001b[0mconcat\u001b[0m\u001b[0;34m(\u001b[0m\u001b[0;34m[\u001b[0m\u001b[0mitem_zip_str\u001b[0m\u001b[0;34m,\u001b[0m \u001b[0mbuyer_zip_str\u001b[0m\u001b[0;34m]\u001b[0m\u001b[0;34m,\u001b[0m \u001b[0maxis\u001b[0m\u001b[0;34m=\u001b[0m\u001b[0;36m1\u001b[0m\u001b[0;34m)\u001b[0m\u001b[0;34m\u001b[0m\u001b[0;34m\u001b[0m\u001b[0m\n\u001b[1;32m     37\u001b[0m \u001b[0;34m\u001b[0m\u001b[0m\n\u001b[0;32m---> 38\u001b[0;31m     \u001b[0mzips\u001b[0m\u001b[0;34m[\u001b[0m\u001b[0;34m'distance'\u001b[0m\u001b[0;34m]\u001b[0m \u001b[0;34m=\u001b[0m \u001b[0mzips\u001b[0m\u001b[0;34m.\u001b[0m\u001b[0mapply\u001b[0m\u001b[0;34m(\u001b[0m\u001b[0;32mlambda\u001b[0m \u001b[0mx\u001b[0m\u001b[0;34m:\u001b[0m \u001b[0mget_distance\u001b[0m\u001b[0;34m(\u001b[0m\u001b[0mx\u001b[0m\u001b[0;34m.\u001b[0m\u001b[0mitem_zip\u001b[0m\u001b[0;34m,\u001b[0m \u001b[0mx\u001b[0m\u001b[0;34m.\u001b[0m\u001b[0mbuyer_zip\u001b[0m\u001b[0;34m)\u001b[0m\u001b[0;34m,\u001b[0m \u001b[0maxis\u001b[0m\u001b[0;34m=\u001b[0m\u001b[0;36m1\u001b[0m\u001b[0;34m)\u001b[0m\u001b[0;34m\u001b[0m\u001b[0;34m\u001b[0m\u001b[0m\n\u001b[0m\u001b[1;32m     39\u001b[0m \u001b[0;34m\u001b[0m\u001b[0m\n\u001b[1;32m     40\u001b[0m     \u001b[0;32mreturn\u001b[0m \u001b[0mzips\u001b[0m\u001b[0;34m[\u001b[0m\u001b[0;34m'distance'\u001b[0m\u001b[0;34m]\u001b[0m\u001b[0;34m\u001b[0m\u001b[0;34m\u001b[0m\u001b[0m\n",
      "\u001b[0;32m/opt/mambaforge/envs/cs152/lib/python3.8/site-packages/pandas/core/frame.py\u001b[0m in \u001b[0;36mapply\u001b[0;34m(self, func, axis, raw, result_type, args, **kwds)\u001b[0m\n\u001b[1;32m   7766\u001b[0m             \u001b[0mkwds\u001b[0m\u001b[0;34m=\u001b[0m\u001b[0mkwds\u001b[0m\u001b[0;34m,\u001b[0m\u001b[0;34m\u001b[0m\u001b[0;34m\u001b[0m\u001b[0m\n\u001b[1;32m   7767\u001b[0m         )\n\u001b[0;32m-> 7768\u001b[0;31m         \u001b[0;32mreturn\u001b[0m \u001b[0mop\u001b[0m\u001b[0;34m.\u001b[0m\u001b[0mget_result\u001b[0m\u001b[0;34m(\u001b[0m\u001b[0;34m)\u001b[0m\u001b[0;34m\u001b[0m\u001b[0;34m\u001b[0m\u001b[0m\n\u001b[0m\u001b[1;32m   7769\u001b[0m \u001b[0;34m\u001b[0m\u001b[0m\n\u001b[1;32m   7770\u001b[0m     \u001b[0;32mdef\u001b[0m \u001b[0mapplymap\u001b[0m\u001b[0;34m(\u001b[0m\u001b[0mself\u001b[0m\u001b[0;34m,\u001b[0m \u001b[0mfunc\u001b[0m\u001b[0;34m,\u001b[0m \u001b[0mna_action\u001b[0m\u001b[0;34m:\u001b[0m \u001b[0mOptional\u001b[0m\u001b[0;34m[\u001b[0m\u001b[0mstr\u001b[0m\u001b[0;34m]\u001b[0m \u001b[0;34m=\u001b[0m \u001b[0;32mNone\u001b[0m\u001b[0;34m)\u001b[0m \u001b[0;34m->\u001b[0m \u001b[0mDataFrame\u001b[0m\u001b[0;34m:\u001b[0m\u001b[0;34m\u001b[0m\u001b[0;34m\u001b[0m\u001b[0m\n",
      "\u001b[0;32m/opt/mambaforge/envs/cs152/lib/python3.8/site-packages/pandas/core/apply.py\u001b[0m in \u001b[0;36mget_result\u001b[0;34m(self)\u001b[0m\n\u001b[1;32m    183\u001b[0m             \u001b[0;32mreturn\u001b[0m \u001b[0mself\u001b[0m\u001b[0;34m.\u001b[0m\u001b[0mapply_raw\u001b[0m\u001b[0;34m(\u001b[0m\u001b[0;34m)\u001b[0m\u001b[0;34m\u001b[0m\u001b[0;34m\u001b[0m\u001b[0m\n\u001b[1;32m    184\u001b[0m \u001b[0;34m\u001b[0m\u001b[0m\n\u001b[0;32m--> 185\u001b[0;31m         \u001b[0;32mreturn\u001b[0m \u001b[0mself\u001b[0m\u001b[0;34m.\u001b[0m\u001b[0mapply_standard\u001b[0m\u001b[0;34m(\u001b[0m\u001b[0;34m)\u001b[0m\u001b[0;34m\u001b[0m\u001b[0;34m\u001b[0m\u001b[0m\n\u001b[0m\u001b[1;32m    186\u001b[0m \u001b[0;34m\u001b[0m\u001b[0m\n\u001b[1;32m    187\u001b[0m     \u001b[0;32mdef\u001b[0m \u001b[0mapply_empty_result\u001b[0m\u001b[0;34m(\u001b[0m\u001b[0mself\u001b[0m\u001b[0;34m)\u001b[0m\u001b[0;34m:\u001b[0m\u001b[0;34m\u001b[0m\u001b[0;34m\u001b[0m\u001b[0m\n",
      "\u001b[0;32m/opt/mambaforge/envs/cs152/lib/python3.8/site-packages/pandas/core/apply.py\u001b[0m in \u001b[0;36mapply_standard\u001b[0;34m(self)\u001b[0m\n\u001b[1;32m    274\u001b[0m \u001b[0;34m\u001b[0m\u001b[0m\n\u001b[1;32m    275\u001b[0m     \u001b[0;32mdef\u001b[0m \u001b[0mapply_standard\u001b[0m\u001b[0;34m(\u001b[0m\u001b[0mself\u001b[0m\u001b[0;34m)\u001b[0m\u001b[0;34m:\u001b[0m\u001b[0;34m\u001b[0m\u001b[0;34m\u001b[0m\u001b[0m\n\u001b[0;32m--> 276\u001b[0;31m         \u001b[0mresults\u001b[0m\u001b[0;34m,\u001b[0m \u001b[0mres_index\u001b[0m \u001b[0;34m=\u001b[0m \u001b[0mself\u001b[0m\u001b[0;34m.\u001b[0m\u001b[0mapply_series_generator\u001b[0m\u001b[0;34m(\u001b[0m\u001b[0;34m)\u001b[0m\u001b[0;34m\u001b[0m\u001b[0;34m\u001b[0m\u001b[0m\n\u001b[0m\u001b[1;32m    277\u001b[0m \u001b[0;34m\u001b[0m\u001b[0m\n\u001b[1;32m    278\u001b[0m         \u001b[0;31m# wrap results\u001b[0m\u001b[0;34m\u001b[0m\u001b[0;34m\u001b[0m\u001b[0;34m\u001b[0m\u001b[0m\n",
      "\u001b[0;32m/opt/mambaforge/envs/cs152/lib/python3.8/site-packages/pandas/core/apply.py\u001b[0m in \u001b[0;36mapply_series_generator\u001b[0;34m(self)\u001b[0m\n\u001b[1;32m    288\u001b[0m             \u001b[0;32mfor\u001b[0m \u001b[0mi\u001b[0m\u001b[0;34m,\u001b[0m \u001b[0mv\u001b[0m \u001b[0;32min\u001b[0m \u001b[0menumerate\u001b[0m\u001b[0;34m(\u001b[0m\u001b[0mseries_gen\u001b[0m\u001b[0;34m)\u001b[0m\u001b[0;34m:\u001b[0m\u001b[0;34m\u001b[0m\u001b[0;34m\u001b[0m\u001b[0m\n\u001b[1;32m    289\u001b[0m                 \u001b[0;31m# ignore SettingWithCopy here in case the user mutates\u001b[0m\u001b[0;34m\u001b[0m\u001b[0;34m\u001b[0m\u001b[0;34m\u001b[0m\u001b[0m\n\u001b[0;32m--> 290\u001b[0;31m                 \u001b[0mresults\u001b[0m\u001b[0;34m[\u001b[0m\u001b[0mi\u001b[0m\u001b[0;34m]\u001b[0m \u001b[0;34m=\u001b[0m \u001b[0mself\u001b[0m\u001b[0;34m.\u001b[0m\u001b[0mf\u001b[0m\u001b[0;34m(\u001b[0m\u001b[0mv\u001b[0m\u001b[0;34m)\u001b[0m\u001b[0;34m\u001b[0m\u001b[0;34m\u001b[0m\u001b[0m\n\u001b[0m\u001b[1;32m    291\u001b[0m                 \u001b[0;32mif\u001b[0m \u001b[0misinstance\u001b[0m\u001b[0;34m(\u001b[0m\u001b[0mresults\u001b[0m\u001b[0;34m[\u001b[0m\u001b[0mi\u001b[0m\u001b[0;34m]\u001b[0m\u001b[0;34m,\u001b[0m \u001b[0mABCSeries\u001b[0m\u001b[0;34m)\u001b[0m\u001b[0;34m:\u001b[0m\u001b[0;34m\u001b[0m\u001b[0;34m\u001b[0m\u001b[0m\n\u001b[1;32m    292\u001b[0m                     \u001b[0;31m# If we have a view on v, we need to make a copy because\u001b[0m\u001b[0;34m\u001b[0m\u001b[0;34m\u001b[0m\u001b[0;34m\u001b[0m\u001b[0m\n",
      "\u001b[0;32m/tmp/ipykernel_1433270/2669380781.py\u001b[0m in \u001b[0;36m<lambda>\u001b[0;34m(x)\u001b[0m\n\u001b[1;32m     36\u001b[0m     \u001b[0mzips\u001b[0m \u001b[0;34m=\u001b[0m \u001b[0mpd\u001b[0m\u001b[0;34m.\u001b[0m\u001b[0mconcat\u001b[0m\u001b[0;34m(\u001b[0m\u001b[0;34m[\u001b[0m\u001b[0mitem_zip_str\u001b[0m\u001b[0;34m,\u001b[0m \u001b[0mbuyer_zip_str\u001b[0m\u001b[0;34m]\u001b[0m\u001b[0;34m,\u001b[0m \u001b[0maxis\u001b[0m\u001b[0;34m=\u001b[0m\u001b[0;36m1\u001b[0m\u001b[0;34m)\u001b[0m\u001b[0;34m\u001b[0m\u001b[0;34m\u001b[0m\u001b[0m\n\u001b[1;32m     37\u001b[0m \u001b[0;34m\u001b[0m\u001b[0m\n\u001b[0;32m---> 38\u001b[0;31m     \u001b[0mzips\u001b[0m\u001b[0;34m[\u001b[0m\u001b[0;34m'distance'\u001b[0m\u001b[0;34m]\u001b[0m \u001b[0;34m=\u001b[0m \u001b[0mzips\u001b[0m\u001b[0;34m.\u001b[0m\u001b[0mapply\u001b[0m\u001b[0;34m(\u001b[0m\u001b[0;32mlambda\u001b[0m \u001b[0mx\u001b[0m\u001b[0;34m:\u001b[0m \u001b[0mget_distance\u001b[0m\u001b[0;34m(\u001b[0m\u001b[0mx\u001b[0m\u001b[0;34m.\u001b[0m\u001b[0mitem_zip\u001b[0m\u001b[0;34m,\u001b[0m \u001b[0mx\u001b[0m\u001b[0;34m.\u001b[0m\u001b[0mbuyer_zip\u001b[0m\u001b[0;34m)\u001b[0m\u001b[0;34m,\u001b[0m \u001b[0maxis\u001b[0m\u001b[0;34m=\u001b[0m\u001b[0;36m1\u001b[0m\u001b[0;34m)\u001b[0m\u001b[0;34m\u001b[0m\u001b[0;34m\u001b[0m\u001b[0m\n\u001b[0m\u001b[1;32m     39\u001b[0m \u001b[0;34m\u001b[0m\u001b[0m\n\u001b[1;32m     40\u001b[0m     \u001b[0;32mreturn\u001b[0m \u001b[0mzips\u001b[0m\u001b[0;34m[\u001b[0m\u001b[0;34m'distance'\u001b[0m\u001b[0;34m]\u001b[0m\u001b[0;34m\u001b[0m\u001b[0;34m\u001b[0m\u001b[0m\n",
      "\u001b[0;32m/tmp/ipykernel_1433270/2669380781.py\u001b[0m in \u001b[0;36mget_distance\u001b[0;34m(item_zip, buyer_zip)\u001b[0m\n\u001b[1;32m     24\u001b[0m         \u001b[0;32mif\u001b[0m \u001b[0mlat1\u001b[0m \u001b[0;32mis\u001b[0m \u001b[0;32mNone\u001b[0m \u001b[0;32mor\u001b[0m \u001b[0mlat2\u001b[0m \u001b[0;32mis\u001b[0m \u001b[0;32mNone\u001b[0m \u001b[0;32mor\u001b[0m \u001b[0mlong1\u001b[0m \u001b[0;32mis\u001b[0m \u001b[0;32mNone\u001b[0m \u001b[0;32mor\u001b[0m \u001b[0mlong2\u001b[0m \u001b[0;32mis\u001b[0m \u001b[0;32mNone\u001b[0m\u001b[0;34m:\u001b[0m\u001b[0;34m\u001b[0m\u001b[0;34m\u001b[0m\u001b[0m\n\u001b[1;32m     25\u001b[0m             \u001b[0mlat1\u001b[0m\u001b[0;34m,\u001b[0m \u001b[0mlong1\u001b[0m \u001b[0;34m=\u001b[0m \u001b[0mz\u001b[0m\u001b[0;34m.\u001b[0m\u001b[0mzip_to_central_lat_lon\u001b[0m\u001b[0;34m(\u001b[0m\u001b[0mint\u001b[0m\u001b[0;34m(\u001b[0m\u001b[0mitem_zip\u001b[0m\u001b[0;34m)\u001b[0m\u001b[0;34m)\u001b[0m\u001b[0;34m\u001b[0m\u001b[0;34m\u001b[0m\u001b[0m\n\u001b[0;32m---> 26\u001b[0;31m             \u001b[0mlat2\u001b[0m\u001b[0;34m,\u001b[0m \u001b[0mlong2\u001b[0m \u001b[0;34m=\u001b[0m \u001b[0mz\u001b[0m\u001b[0;34m.\u001b[0m\u001b[0mzip_to_central_lat_lon\u001b[0m\u001b[0;34m(\u001b[0m\u001b[0mint\u001b[0m\u001b[0;34m(\u001b[0m\u001b[0mbuyer_zip\u001b[0m\u001b[0;34m)\u001b[0m\u001b[0;34m)\u001b[0m\u001b[0;34m\u001b[0m\u001b[0;34m\u001b[0m\u001b[0m\n\u001b[0m\u001b[1;32m     27\u001b[0m         \u001b[0;32mreturn\u001b[0m \u001b[0mmpu\u001b[0m\u001b[0;34m.\u001b[0m\u001b[0mhaversine_distance\u001b[0m\u001b[0;34m(\u001b[0m\u001b[0;34m(\u001b[0m\u001b[0mlat1\u001b[0m\u001b[0;34m,\u001b[0m\u001b[0mlong1\u001b[0m\u001b[0;34m)\u001b[0m\u001b[0;34m,\u001b[0m\u001b[0;34m(\u001b[0m\u001b[0mlat2\u001b[0m\u001b[0;34m,\u001b[0m\u001b[0mlong2\u001b[0m\u001b[0;34m)\u001b[0m\u001b[0;34m)\u001b[0m\u001b[0;34m\u001b[0m\u001b[0;34m\u001b[0m\u001b[0m\n\u001b[1;32m     28\u001b[0m     \u001b[0;32melse\u001b[0m\u001b[0;34m:\u001b[0m\u001b[0;34m\u001b[0m\u001b[0;34m\u001b[0m\u001b[0m\n",
      "\u001b[0;32m~/eBay_ML_Challenge_Dataset_2021/ziptotimezone.py\u001b[0m in \u001b[0;36mzip_to_central_lat_lon\u001b[0;34m(z)\u001b[0m\n\u001b[1;32m    254\u001b[0m \u001b[0;31m# %%\u001b[0m\u001b[0;34m\u001b[0m\u001b[0;34m\u001b[0m\u001b[0;34m\u001b[0m\u001b[0m\n\u001b[1;32m    255\u001b[0m \u001b[0;32mdef\u001b[0m \u001b[0mzip_to_central_lat_lon\u001b[0m\u001b[0;34m(\u001b[0m\u001b[0mz\u001b[0m\u001b[0;34m)\u001b[0m\u001b[0;34m:\u001b[0m\u001b[0;34m\u001b[0m\u001b[0;34m\u001b[0m\u001b[0m\n\u001b[0;32m--> 256\u001b[0;31m     \u001b[0mstate\u001b[0m \u001b[0;34m=\u001b[0m \u001b[0mzipcode_to_state\u001b[0m\u001b[0;34m(\u001b[0m\u001b[0mz\u001b[0m\u001b[0;34m)\u001b[0m\u001b[0;34m\u001b[0m\u001b[0;34m\u001b[0m\u001b[0m\n\u001b[0m\u001b[1;32m    257\u001b[0m     \u001b[0mcoordinates\u001b[0m \u001b[0;34m=\u001b[0m \u001b[0mstate_to_lat_long\u001b[0m\u001b[0;34m(\u001b[0m\u001b[0mstate\u001b[0m\u001b[0;34m)\u001b[0m\u001b[0;34m\u001b[0m\u001b[0;34m\u001b[0m\u001b[0m\n\u001b[1;32m    258\u001b[0m     \u001b[0;32mreturn\u001b[0m \u001b[0mcoordinates\u001b[0m\u001b[0;34m[\u001b[0m\u001b[0;36m0\u001b[0m\u001b[0;34m]\u001b[0m\u001b[0;34m,\u001b[0m \u001b[0mcoordinates\u001b[0m\u001b[0;34m[\u001b[0m\u001b[0;36m1\u001b[0m\u001b[0;34m]\u001b[0m\u001b[0;34m\u001b[0m\u001b[0;34m\u001b[0m\u001b[0m\n",
      "\u001b[0;32m~/eBay_ML_Challenge_Dataset_2021/ziptotimezone.py\u001b[0m in \u001b[0;36mzipcode_to_state\u001b[0;34m(z)\u001b[0m\n\u001b[1;32m     12\u001b[0m     \u001b[0;32mwhile\u001b[0m \u001b[0mdigit\u001b[0m \u001b[0;34m==\u001b[0m \u001b[0;34m\"0\"\u001b[0m \u001b[0;32mand\u001b[0m \u001b[0mindex\u001b[0m \u001b[0;34m<\u001b[0m \u001b[0mlen\u001b[0m\u001b[0;34m(\u001b[0m\u001b[0mstring_zip\u001b[0m\u001b[0;34m)\u001b[0m\u001b[0;34m:\u001b[0m\u001b[0;34m\u001b[0m\u001b[0;34m\u001b[0m\u001b[0m\n\u001b[1;32m     13\u001b[0m         \u001b[0mindex\u001b[0m \u001b[0;34m+=\u001b[0m \u001b[0;36m1\u001b[0m\u001b[0;34m\u001b[0m\u001b[0;34m\u001b[0m\u001b[0m\n\u001b[0;32m---> 14\u001b[0;31m         \u001b[0mdigit\u001b[0m \u001b[0;34m=\u001b[0m \u001b[0mstring_zip\u001b[0m\u001b[0;34m[\u001b[0m\u001b[0mindex\u001b[0m\u001b[0;34m]\u001b[0m\u001b[0;34m\u001b[0m\u001b[0;34m\u001b[0m\u001b[0m\n\u001b[0m\u001b[1;32m     15\u001b[0m         \u001b[0mleading_zeros\u001b[0m \u001b[0;34m+=\u001b[0m \u001b[0;36m1\u001b[0m\u001b[0;34m\u001b[0m\u001b[0;34m\u001b[0m\u001b[0m\n\u001b[1;32m     16\u001b[0m     \u001b[0mz\u001b[0m \u001b[0;34m=\u001b[0m \u001b[0mint\u001b[0m\u001b[0;34m(\u001b[0m\u001b[0mstring_zip\u001b[0m\u001b[0;34m[\u001b[0m\u001b[0mleading_zeros\u001b[0m\u001b[0;34m:\u001b[0m\u001b[0;34m]\u001b[0m\u001b[0;34m)\u001b[0m\u001b[0;34m\u001b[0m\u001b[0;34m\u001b[0m\u001b[0m\n",
      "\u001b[0;31mIndexError\u001b[0m: string index out of range"
     ]
    }
   ],
   "source": [
    "import mpu\n",
    "from uszipcode import SearchEngine\n",
    "import pandas as pd\n",
    "\n",
    "\n",
    "def get_distance(item_zip, buyer_zip):\n",
    "    \"\"\"\n",
    "    Haversine formula using 'mpu' library which determines the\n",
    "    great-circle distance between two points on a sphere.\n",
    "    \"\"\"\n",
    "    if item_zip is not None and buyer_zip is not None:\n",
    "        search = SearchEngine(simple_zipcode=True)\n",
    "\n",
    "        zip1 = search.by_zipcode(item_zip[0:5])\n",
    "        lat1 =zip1.lat\n",
    "        long1 =zip1.lng\n",
    "        print(str(lat1) + \", \" + str(long1))\n",
    "\n",
    "        zip2 =search.by_zipcode(buyer_zip[0:5])\n",
    "        lat2 =zip2.lat\n",
    "        long2 =zip2.lng\n",
    "        print(str(lat2) + \", \" + str(long2))\n",
    "\n",
    "        if lat1 is None or lat2 is None or long1 is None or long2 is None:\n",
    "            lat1, long1 = z.zip_to_central_lat_lon(int(item_zip))\n",
    "            lat2, long2 = z.zip_to_central_lat_lon(int(buyer_zip))\n",
    "        return mpu.haversine_distance((lat1,long1),(lat2,long2)) \n",
    "    else:\n",
    "        return None\n",
    "\n",
    "\n",
    "def add_zip_distance_column(item_zip, buyer_zip):\n",
    "    item_zip_str = item_zip.apply(lambda x: str(x))\n",
    "    buyer_zip_str = buyer_zip.apply(lambda x: str(x))\n",
    "\n",
    "    zips = pd.concat([item_zip_str, buyer_zip_str], axis=1)\n",
    "\n",
    "    zips['distance'] = zips.apply(lambda x: get_distance(x.item_zip, x.buyer_zip), axis=1)\n",
    "    \n",
    "    return zips['distance']\n",
    "\n",
    "zips = add_zip_distance_column(item_zip, buyer_zip)"
   ]
  },
  {
   "cell_type": "code",
   "execution_count": null,
   "id": "6066ef6c",
   "metadata": {},
   "outputs": [],
   "source": []
  },
  {
   "cell_type": "code",
   "execution_count": null,
   "id": "8d6371c2",
   "metadata": {},
   "outputs": [],
   "source": []
  },
  {
   "cell_type": "markdown",
   "id": "ea0f2caf",
   "metadata": {},
   "source": [
    "Use weight_units to convert all weights to the same unit"
   ]
  },
  {
   "cell_type": "code",
   "execution_count": 7,
   "id": "9037f28d",
   "metadata": {},
   "outputs": [],
   "source": [
    "def convert_weights():\n",
    "    for i, unit in enumerate(weight_units):\n",
    "        if unit == 2:\n",
    "            #convert weight to lbs; 1 kg = 2.20462 lbs.\n",
    "            weight[i] *= 2.20462\n",
    "convert_weights()"
   ]
  },
  {
   "cell_type": "markdown",
   "id": "5ce9b63e",
   "metadata": {},
   "source": [
    "Replace missing weight values with the average weight by category ID"
   ]
  },
  {
   "cell_type": "code",
   "execution_count": 8,
   "id": "42c26198",
   "metadata": {},
   "outputs": [],
   "source": [
    "def determine_weight_averages_by_category_id():\n",
    "    category_id_weights = {}\n",
    "    for i, w in enumerate(weight):\n",
    "        category = category_id[i]\n",
    "        if category not in category_id_weights:\n",
    "            category_id_weights[category] = [w]\n",
    "        else:\n",
    "            category_id_weights[category].append(w)\n",
    "    \n",
    "    category_id_weight_means = {}\n",
    "    for category in category_id_weights:\n",
    "        weights = category_id_weights[category]\n",
    "        average_weight = np.mean(weights)\n",
    "        category_id_weight_means[category] = average_weight\n",
    "    \n",
    "    return category_id_weight_means\n",
    "\n",
    "def fill_missing_weights():\n",
    "    weight_means = determine_weight_averages_by_category_id()\n",
    "    overall_mean = np.mean(weight)\n",
    "    for i, w in enumerate(weight):\n",
    "        if w == 0:\n",
    "            #weight is missing, replace with average weight across same category id\n",
    "            category = category_id[i]\n",
    "            if category in weight_means:\n",
    "                weight[i] = weight_means[category]\n",
    "            else:\n",
    "                #don't have records for this category id, so replace with overall average\n",
    "                weight[i] = overall_mean\n",
    "fill_missing_weights()"
   ]
  },
  {
   "cell_type": "markdown",
   "id": "cefa3ba9",
   "metadata": {},
   "source": [
    "Encode package_size as discrete numeric values"
   ]
  },
  {
   "cell_type": "code",
   "execution_count": 9,
   "id": "5b0b5b42",
   "metadata": {},
   "outputs": [],
   "source": [
    "def string_to_numeric_package_size():\n",
    "    if type(package_size[0]) == int:\n",
    "        print(\"Already converted to discrete numeric values\")\n",
    "    else:\n",
    "        encodings = {\"LETTER\": 0, \"PACKAGE_THICK_ENVELOPE\": 1, \"LARGE_ENVELOPE\": 2,\"VERY_LARGE_PACKAGE\": 3, \n",
    "                     \"LARGE_PACKAGE\": 4, \"EXTRA_LARGE_PACKAGE\": 5, \"NONE\": -1}\n",
    "        for i, size in enumerate(package_size):\n",
    "            package_size[i] = encodings[size]\n",
    "string_to_numeric_package_size()"
   ]
  },
  {
   "cell_type": "markdown",
   "id": "26a70435",
   "metadata": {},
   "source": [
    "Replace missing package_size values with the most likely size using weight"
   ]
  },
  {
   "cell_type": "code",
   "execution_count": 10,
   "id": "77f12b0c",
   "metadata": {},
   "outputs": [],
   "source": [
    "def determine_average_weight_by_package_size():\n",
    "    package_size_weights = {}\n",
    "    for i, w in enumerate(weight):\n",
    "        p_size = package_size[i]\n",
    "        if p_size not in package_size_weights:\n",
    "            package_size_weights[p_size] = [w]\n",
    "        else:\n",
    "            package_size_weights[p_size].append(w)\n",
    "    \n",
    "    package_id_weight_means = {}\n",
    "    for p_size in package_size_weights:\n",
    "        weights = package_size_weights[p_size]\n",
    "        average_weight = np.mean(weights)\n",
    "        package_id_weight_means[p_size] = average_weight\n",
    "    \n",
    "    return package_id_weight_means\n",
    "\n",
    "def fill_missing_package_sizes():\n",
    "    weight_means = determine_average_weight_by_package_size()\n",
    "    weight_means.pop(-1, None)\n",
    "    weight_means_list = [weight_means[key] for key in weight_means]\n",
    "    for i, s in enumerate(package_size):\n",
    "        if s == -1:\n",
    "            #package size is missing, replace with package size it's weight is closest to the average of\n",
    "            w = weight[i]\n",
    "            abs_function = lambda value: abs(value-w)\n",
    "            closest_value = min(weight_means_list, key=abs_function)\n",
    "            closest_p_size = weight_means_list.index(closest_value)\n",
    "            package_size[i] = closest_p_size\n",
    "\n",
    "fill_missing_package_sizes()"
   ]
  },
  {
   "cell_type": "markdown",
   "id": "0cb6e2ca",
   "metadata": {},
   "source": [
    "Replace missing carrier_min_estimate and carrier_max_estimate with averages from the same shipment_method_id. If there are no records for that shipment_method_id, replace with overall average across all shipment_method_id's."
   ]
  },
  {
   "cell_type": "code",
   "execution_count": 11,
   "id": "4e26ae11",
   "metadata": {},
   "outputs": [],
   "source": [
    "def determine_average_shipping_estimates_by_shipment_method():    \n",
    "    carrier_min_by_shipment_method = {}\n",
    "    carrier_max_by_shipment_method = {}\n",
    "    for i, method_id in enumerate(shipment_method_id):\n",
    "        carrier_min = carrier_min_estimate[i]\n",
    "        carrier_max = carrier_max_estimate[i]\n",
    "        if method_id not in carrier_min_by_shipment_method:\n",
    "            carrier_min_by_shipment_method[method_id] = [carrier_min]\n",
    "        else:\n",
    "            carrier_min_by_shipment_method[method_id].append(carrier_min)\n",
    "\n",
    "        if method_id not in carrier_max_by_shipment_method:\n",
    "            carrier_max_by_shipment_method[method_id] = [carrier_max]\n",
    "        else:\n",
    "            carrier_max_by_shipment_method[method_id].append(carrier_max)\n",
    "    \n",
    "    carrier_min_means = {}\n",
    "    for method_id in carrier_min_by_shipment_method:\n",
    "        min_estimates = carrier_min_by_shipment_method[method_id]\n",
    "        mean_min_estimate = np.mean(min_estimates)\n",
    "        carrier_min_means[method_id] = mean_min_estimate\n",
    "    \n",
    "    carrier_max_means = {}\n",
    "    for method_id in carrier_max_by_shipment_method:\n",
    "        max_estimates = carrier_max_by_shipment_method[method_id]\n",
    "        mean_max_estimate = np.mean(max_estimates)\n",
    "        carrier_max_means[method_id] = mean_max_estimate \n",
    "    \n",
    "    return carrier_min_means, carrier_max_means\n",
    "\n",
    "def fill_missing_carrier_estimates():\n",
    "    carrier_min_means, carrier_max_means = determine_average_shipping_estimates_by_shipment_method()\n",
    "    overall_min_mean, overall_max_mean = np.mean(carrier_min_estimate), np.mean(carrier_max_estimate)\n",
    "    for i, estimate in enumerate(carrier_min_estimate):\n",
    "        if estimate < 0:\n",
    "            #need to fill value \n",
    "            method_id = shipment_method_id[i]\n",
    "            if method_id in carrier_min_means:\n",
    "                carrier_min_estimate[i] = carrier_min_means[method_id]\n",
    "            else:\n",
    "                carrier_min_estimate[i] = overall_min_mean\n",
    "    for i, estimate in enumerate(carrier_max_estimate):\n",
    "        if estimate < 0:\n",
    "            #need to fill value\n",
    "            method_id = shipment_method_id[i]\n",
    "            if method_id in carrier_max_means:\n",
    "                carrier_max_estimate[i] = carrier_max_means[method_id]\n",
    "            else:\n",
    "                carrier_max_estimate[i] = overall_max_mean\n",
    "\n",
    "fill_missing_carrier_estimates()"
   ]
  },
  {
   "cell_type": "markdown",
   "id": "b1c52d4c",
   "metadata": {},
   "source": [
    "Replace missing declared_handling_days with average from the same seller_id. If there are no records for that seller_id, replace with overall average across all sellers."
   ]
  },
  {
   "cell_type": "code",
   "execution_count": 12,
   "id": "e71ad5b5",
   "metadata": {},
   "outputs": [],
   "source": [
    "def fill_missing_declared_handling_days():\n",
    "    overall_mean = np.mean(declared_handling_days)\n",
    "    seller_counts = Counter(seller_id)\n",
    "    for i, days in enumerate(declared_handling_days):\n",
    "        if np.isnan(days):\n",
    "            #need to fill\n",
    "            declared_handling_days[i] = overall_mean\n",
    "#COULD MAKE THIS BETTER BY DOING BY SELLER ID"
   ]
  },
  {
   "cell_type": "code",
   "execution_count": 13,
   "id": "efad3e19",
   "metadata": {},
   "outputs": [],
   "source": [
    "features = np.column_stack((b2c_c2c, seller_id, declared_handling_days, shipment_method_id, shipping_fee,\n",
    "                             carrier_min_estimate, carrier_max_estimate, category_id,\n",
    "                             item_price, weight, package_size, handling_days))\n",
    "labels = np.array(delivery_days)\n",
    "handling_labels = np.array(handling_days)\n",
    "shipping_labels = np.array(shipping_days)"
   ]
  },
  {
   "cell_type": "code",
   "execution_count": 14,
   "id": "2c181463",
   "metadata": {},
   "outputs": [],
   "source": [
    "X_train, X_test, Y_train, Y_test = train_test_split(features, labels)\n",
    "handling_X_train, handling_X_test, handling_Y_train, handling_Y_test = train_test_split(features, handling_labels)\n",
    "shipping_X_train, shipping_X_test, shipping_Y_train, shipping_Y_test = train_test_split(features, shipping_labels)"
   ]
  },
  {
   "cell_type": "code",
   "execution_count": 15,
   "id": "9a593bc5",
   "metadata": {},
   "outputs": [
    {
     "name": "stderr",
     "output_type": "stream",
     "text": [
      "/opt/mambaforge/envs/cs152/lib/python3.8/site-packages/sklearn/preprocessing/_data.py:194: UserWarning: Numerical issues were encountered when centering the data and might not be solved. Dataset may contain too large values. You may need to prescale your features.\n",
      "  warnings.warn(\"Numerical issues were encountered \"\n",
      "/opt/mambaforge/envs/cs152/lib/python3.8/site-packages/sklearn/preprocessing/_data.py:194: UserWarning: Numerical issues were encountered when centering the data and might not be solved. Dataset may contain too large values. You may need to prescale your features.\n",
      "  warnings.warn(\"Numerical issues were encountered \"\n",
      "/opt/mambaforge/envs/cs152/lib/python3.8/site-packages/sklearn/preprocessing/_data.py:194: UserWarning: Numerical issues were encountered when centering the data and might not be solved. Dataset may contain too large values. You may need to prescale your features.\n",
      "  warnings.warn(\"Numerical issues were encountered \"\n"
     ]
    }
   ],
   "source": [
    "X_train = scale(X_train, with_mean=True, with_std=True)\n",
    "X_test = scale(X_test, with_mean=True, with_std=True)\n",
    "handling_X_train = scale(handling_X_train, with_mean=True, with_std=True)\n",
    "handling_X_test = scale(handling_X_test, with_mean=True, with_std=True)\n",
    "shipping_X_train = scale(shipping_X_train, with_mean=True, with_std=True)\n",
    "shipping_X_test = scale(shipping_X_test, with_mean=True, with_std=True)"
   ]
  },
  {
   "cell_type": "code",
   "execution_count": 16,
   "id": "4553d00e",
   "metadata": {},
   "outputs": [
    {
     "name": "stdout",
     "output_type": "stream",
     "text": [
      "XGBRegressor(base_score=None, booster=None, colsample_bylevel=None,\n",
      "             colsample_bynode=None, colsample_bytree=None, gamma=None,\n",
      "             gpu_id=None, importance_type='gain', interaction_constraints=None,\n",
      "             learning_rate=None, max_delta_step=None, max_depth=None,\n",
      "             min_child_weight=None, missing=nan, monotone_constraints=None,\n",
      "             n_estimators=100, n_jobs=None, num_parallel_tree=None,\n",
      "             random_state=None, reg_alpha=None, reg_lambda=None,\n",
      "             scale_pos_weight=None, subsample=None, tree_method=None,\n",
      "             validate_parameters=None, verbosity=0)\n"
     ]
    }
   ],
   "source": [
    "xgbr = xgb.XGBRegressor(verbosity=0)\n",
    "print(xgbr)"
   ]
  },
  {
   "cell_type": "code",
   "execution_count": 17,
   "id": "0418258b",
   "metadata": {},
   "outputs": [
    {
     "data": {
      "text/plain": [
       "XGBRegressor(base_score=0.5, booster='gbtree', colsample_bylevel=1,\n",
       "             colsample_bynode=1, colsample_bytree=1, gamma=0, gpu_id=-1,\n",
       "             importance_type='gain', interaction_constraints='',\n",
       "             learning_rate=0.300000012, max_delta_step=0, max_depth=6,\n",
       "             min_child_weight=1, missing=nan, monotone_constraints='()',\n",
       "             n_estimators=100, n_jobs=40, num_parallel_tree=1, random_state=0,\n",
       "             reg_alpha=0, reg_lambda=1, scale_pos_weight=1, subsample=1,\n",
       "             tree_method='approx', validate_parameters=1, verbosity=0)"
      ]
     },
     "execution_count": 17,
     "metadata": {},
     "output_type": "execute_result"
    }
   ],
   "source": [
    "xgbr.fit(X_train, Y_train)"
   ]
  },
  {
   "cell_type": "code",
   "execution_count": 18,
   "id": "1d6d769e",
   "metadata": {},
   "outputs": [
    {
     "name": "stdout",
     "output_type": "stream",
     "text": [
      "0.6863894542225488\n"
     ]
    }
   ],
   "source": [
    "train_score = xgbr.score(X_train, Y_train)\n",
    "print(train_score)"
   ]
  },
  {
   "cell_type": "code",
   "execution_count": 19,
   "id": "c3ad3b36",
   "metadata": {},
   "outputs": [
    {
     "name": "stdout",
     "output_type": "stream",
     "text": [
      "3.9188312931786387\n"
     ]
    }
   ],
   "source": [
    "pred = xgbr.predict(X_test)\n",
    "mse = mean_squared_error(Y_test, pred)\n",
    "print(mse)"
   ]
  },
  {
   "cell_type": "code",
   "execution_count": 20,
   "id": "8822dbb2",
   "metadata": {},
   "outputs": [],
   "source": [
    "def evaluate_loss(preds, actual):\n",
    "    early_loss, late_loss = 0,0 \n",
    "    for i in range(len(preds)):\n",
    "        if preds[i] < actual[i]:\n",
    "            #early shipment\n",
    "            early_loss += actual[i] - preds[i]\n",
    "        elif preds[i] > actual[i]:\n",
    "            #late shipment\n",
    "            late_loss += preds[i] - actual[i]\n",
    "    loss = (1/len(preds)) * (0.4 * (early_loss) + 0.6 * (late_loss))\n",
    "    return loss"
   ]
  },
  {
   "cell_type": "code",
   "execution_count": 21,
   "id": "459dd196",
   "metadata": {},
   "outputs": [
    {
     "name": "stdout",
     "output_type": "stream",
     "text": [
      "0.5300786547326438\n"
     ]
    }
   ],
   "source": [
    "print(evaluate_loss(pred, Y_test))"
   ]
  },
  {
   "cell_type": "code",
   "execution_count": 22,
   "id": "a4391c92",
   "metadata": {},
   "outputs": [
    {
     "data": {
      "image/png": "[encoded data removed]",
      "text/plain": [
       "<Figure size 432x288 with 1 Axes>"
      ]
     },
     "metadata": {
      "needs_background": "light"
     },
     "output_type": "display_data"
    }
   ],
   "source": [
    "xgb.plot_tree(xgbr)\n",
    "plt.savefig('tree.png', dpi=300)\n",
    "plt.show()"
   ]
  },
  {
   "cell_type": "code",
   "execution_count": 23,
   "id": "34794a8a",
   "metadata": {},
   "outputs": [
    {
     "name": "stdout",
     "output_type": "stream",
     "text": [
      "[0.00470502 0.01391438 0.0124221  0.01212137 0.00642627 0.0412479\n",
      " 0.08207865 0.00904437 0.00842107 0.00675844 0.01387058 0.78898984]\n"
     ]
    }
   ],
   "source": [
    "print(xgbr.feature_importances_)"
   ]
  },
  {
   "cell_type": "code",
   "execution_count": 31,
   "id": "18502922",
   "metadata": {},
   "outputs": [
    {
     "name": "stdout",
     "output_type": "stream",
     "text": [
      "None\n"
     ]
    }
   ],
   "source": [
    "print(xgbr.max_depth)"
   ]
  },
  {
   "cell_type": "markdown",
   "id": "2d95286d",
   "metadata": {},
   "source": [
    "[0.00716152 0.0138678  0.0125318  0.01243079 0.00656817 0.04646778\n",
    " 0.08607896 0.00716838 0.00732436 0.00689182 0.01321472 0.7802939 ]\n",
    " \n",
    "b2c_c2c, seller_id, declared_handling_days, shipment_method_id, shipping_fee,\n",
    "                             carrier_min_estimate, carrier_max_estimate, category_id,\n",
    "                             item_price, weight, package_size, handling_days\n",
    "\n",
    "importance < 0.01: b2c_c2c, shipping_fee, category_id, item_price, weight\n",
    "0.01 < importance < 0.05: seller_id, declared_handling_days, shipment_method_id, carrier_min_estimate, package_size\n",
    "0.05 < importance: carrier_max_estimate, handling_days"
   ]
  },
  {
   "cell_type": "markdown",
   "id": "5f22ce4e",
   "metadata": {},
   "source": [
    "Try random forest with and without unimportant features\n",
    "visualize correlation matrix as a heap map (can use seaborn)\n",
    "Knock out experiments:\n",
    "- knock out one feature and train \n",
    "- compare models (the one that has the largest hit from removing 1 feature tells that that feature is most important)\n",
    "Try turning zip codes into floating point numbers and passing that into neural network"
   ]
  },
  {
   "cell_type": "markdown",
   "id": "680be5d8",
   "metadata": {},
   "source": [
    "Let's use XGBoost to determine which features are important only for the handling period, and which are important only for the shipping period"
   ]
  },
  {
   "cell_type": "code",
   "execution_count": 23,
   "id": "4a839c0b",
   "metadata": {},
   "outputs": [
    {
     "name": "stdout",
     "output_type": "stream",
     "text": [
      "XGBRegressor(base_score=None, booster=None, colsample_bylevel=None,\n",
      "             colsample_bynode=None, colsample_bytree=None, gamma=None,\n",
      "             gpu_id=None, importance_type='gain', interaction_constraints=None,\n",
      "             learning_rate=None, max_delta_step=None, max_depth=None,\n",
      "             min_child_weight=None, missing=nan, monotone_constraints=None,\n",
      "             n_estimators=100, n_jobs=None, num_parallel_tree=None,\n",
      "             random_state=None, reg_alpha=None, reg_lambda=None,\n",
      "             scale_pos_weight=None, subsample=None, tree_method=None,\n",
      "             validate_parameters=None, verbosity=0)\n",
      "MSE:\n",
      "22.76756258453385\n",
      "Loss:\n",
      "0.43506425964805373\n"
     ]
    },
    {
     "data": {
      "image/png": "[encoded data removed]",
      "text/plain": [
       "<Figure size 432x288 with 1 Axes>"
      ]
     },
     "metadata": {
      "needs_background": "light"
     },
     "output_type": "display_data"
    },
    {
     "name": "stdout",
     "output_type": "stream",
     "text": [
      "[2.66874991e-02 1.57523658e-02 1.91025324e-02 4.13970882e-03\n",
      " 1.33468891e-02 2.09106889e-04 3.63922194e-02 1.04670925e-02\n",
      " 1.02126561e-02 9.62290820e-03 4.79271309e-03 8.49274337e-01]\n"
     ]
    }
   ],
   "source": [
    "handling_xgbr = xgb.XGBRegressor(verbosity=0)\n",
    "print(handling_xgbr)\n",
    "handling_xgbr.fit(handling_X_train, handling_Y_train)\n",
    "pred = handling_xgbr.predict(handling_X_test)\n",
    "mse = mean_squared_error(handling_Y_test, pred)\n",
    "print(\"MSE:\")\n",
    "print(mse)\n",
    "print(\"Loss:\")\n",
    "print(evaluate_loss(pred, handling_Y_test))\n",
    "xgb.plot_tree(handling_xgbr)\n",
    "plt.savefig('handling_tree.png', dpi=300)\n",
    "plt.show()\n",
    "print(handling_xgbr.feature_importances_)"
   ]
  },
  {
   "cell_type": "markdown",
   "id": "9439cd66",
   "metadata": {},
   "source": [
    "[2.66874991e-02 1.57523658e-02 1.91025324e-02 4.13970882e-03\n",
    " 1.33468891e-02 2.09106889e-04 3.63922194e-02 1.04670925e-02\n",
    " 1.02126561e-02 9.62290820e-03 4.79271309e-03 8.49274337e-01]\n",
    " \n",
    " b2c_c2c, seller_id, declared_handling_days, shipment_method_id, shipping_fee,\n",
    "                             carrier_min_estimate, carrier_max_estimate, category_id,\n",
    "                             item_price, weight, package_size, handling_days\n",
    "                            \n",
    "                             "
   ]
  },
  {
   "cell_type": "code",
   "execution_count": 24,
   "id": "d5131c4e",
   "metadata": {},
   "outputs": [
    {
     "name": "stdout",
     "output_type": "stream",
     "text": [
      "XGBRegressor(base_score=None, booster=None, colsample_bylevel=None,\n",
      "             colsample_bynode=None, colsample_bytree=None, gamma=None,\n",
      "             gpu_id=None, importance_type='gain', interaction_constraints=None,\n",
      "             learning_rate=None, max_delta_step=None, max_depth=None,\n",
      "             min_child_weight=None, missing=nan, monotone_constraints=None,\n",
      "             n_estimators=100, n_jobs=None, num_parallel_tree=None,\n",
      "             random_state=None, reg_alpha=None, reg_lambda=None,\n",
      "             scale_pos_weight=None, subsample=None, tree_method=None,\n",
      "             validate_parameters=None, verbosity=0)\n",
      "MSE:\n",
      "18.531836014004373\n",
      "Loss:\n",
      "0.8092401947733605\n"
     ]
    },
    {
     "data": {
      "image/png": "[encoded data removed]",
      "text/plain": [
       "<Figure size 432x288 with 1 Axes>"
      ]
     },
     "metadata": {
      "needs_background": "light"
     },
     "output_type": "display_data"
    },
    {
     "name": "stdout",
     "output_type": "stream",
     "text": [
      "[0.03684181 0.05246348 0.07678234 0.03377131 0.02894857 0.26008287\n",
      " 0.3404752  0.02395581 0.04662873 0.02663036 0.03651725 0.0369023 ]\n"
     ]
    }
   ],
   "source": [
    "shipping_xgbr = xgb.XGBRegressor(verbosity=0)\n",
    "print(shipping_xgbr)\n",
    "shipping_xgbr.fit(shipping_X_train, shipping_Y_train)\n",
    "pred = shipping_xgbr.predict(shipping_X_test)\n",
    "mse = mean_squared_error(shipping_Y_test, pred)\n",
    "print(\"MSE:\")\n",
    "print(mse)\n",
    "print(\"Loss:\")\n",
    "print(evaluate_loss(pred, shipping_Y_test))\n",
    "xgb.plot_tree(shipping_xgbr)\n",
    "plt.savefig('shipping_tree.png', dpi=300)\n",
    "plt.show()\n",
    "print(shipping_xgbr.feature_importances_)"
   ]
  },
  {
   "cell_type": "markdown",
   "id": "79c8bda8",
   "metadata": {},
   "source": [
    "[0.00974114 0.05542793 0.05909049 0.0481035  0.03052319 0.26555276\n",
    " 0.3525968  0.01976914 0.04382701 0.03989847 0.03796855 0.03750111]\n",
    " \n",
    "b2c_c2c, seller_id, declared_handling_days, shipment_method_id, shipping_fee, carrier_min_estimate, carrier_max_estimate, category_id, item_price, weight, package_size, handling_days\n",
    "\n",
    "importance < 0.01: b2c_c2c\n",
    "\n",
    "0.01 < importance < 0.05: shipment_method_id, shipping_fee, category_id, item_price, weight, package_size, handling days\n",
    "\n",
    "importance > 0.05: seller_id, declared_handling_days, carrier_min_estimate, carrier_max_estimate\n",
    " "
   ]
  },
  {
   "cell_type": "code",
   "execution_count": 25,
   "id": "c3bae550",
   "metadata": {},
   "outputs": [
    {
     "data": {
      "text/plain": [
       "<Figure size 432x288 with 0 Axes>"
      ]
     },
     "metadata": {},
     "output_type": "display_data"
    }
   ],
   "source": [
    "plt.savefig('shipping_tree.png', dpi=600)\n",
    "plt.show()"
   ]
  },
  {
   "cell_type": "code",
   "execution_count": 26,
   "id": "608386d5",
   "metadata": {},
   "outputs": [
    {
     "data": {
      "text/plain": [
       "(12, 15000000)"
      ]
     },
     "execution_count": 26,
     "metadata": {},
     "output_type": "execute_result"
    }
   ],
   "source": [
    "features.T.shape"
   ]
  },
  {
   "cell_type": "code",
   "execution_count": 27,
   "id": "a755be43",
   "metadata": {},
   "outputs": [
    {
     "ename": "AttributeError",
     "evalue": "'float' object has no attribute 'shape'",
     "output_type": "error",
     "traceback": [
      "\u001b[0;31m---------------------------------------------------------------------------\u001b[0m",
      "\u001b[0;31mAttributeError\u001b[0m                            Traceback (most recent call last)",
      "\u001b[0;32m/tmp/ipykernel_1433270/555612633.py\u001b[0m in \u001b[0;36m<module>\u001b[0;34m\u001b[0m\n\u001b[0;32m----> 1\u001b[0;31m \u001b[0mcorr\u001b[0m \u001b[0;34m=\u001b[0m \u001b[0mnp\u001b[0m\u001b[0;34m.\u001b[0m\u001b[0mcorrcoef\u001b[0m\u001b[0;34m(\u001b[0m\u001b[0mnp\u001b[0m\u001b[0;34m.\u001b[0m\u001b[0marray\u001b[0m\u001b[0;34m(\u001b[0m\u001b[0mfeatures\u001b[0m\u001b[0;34m.\u001b[0m\u001b[0mT\u001b[0m\u001b[0;34m)\u001b[0m\u001b[0;34m)\u001b[0m\u001b[0;34m\u001b[0m\u001b[0;34m\u001b[0m\u001b[0m\n\u001b[0m",
      "\u001b[0;32m<__array_function__ internals>\u001b[0m in \u001b[0;36mcorrcoef\u001b[0;34m(*args, **kwargs)\u001b[0m\n",
      "\u001b[0;32m/opt/mambaforge/envs/cs152/lib/python3.8/site-packages/numpy/lib/function_base.py\u001b[0m in \u001b[0;36mcorrcoef\u001b[0;34m(x, y, rowvar, bias, ddof)\u001b[0m\n\u001b[1;32m   2549\u001b[0m         warnings.warn('bias and ddof have no effect and are deprecated',\n\u001b[1;32m   2550\u001b[0m                       DeprecationWarning, stacklevel=3)\n\u001b[0;32m-> 2551\u001b[0;31m     \u001b[0mc\u001b[0m \u001b[0;34m=\u001b[0m \u001b[0mcov\u001b[0m\u001b[0;34m(\u001b[0m\u001b[0mx\u001b[0m\u001b[0;34m,\u001b[0m \u001b[0my\u001b[0m\u001b[0;34m,\u001b[0m \u001b[0mrowvar\u001b[0m\u001b[0;34m)\u001b[0m\u001b[0;34m\u001b[0m\u001b[0;34m\u001b[0m\u001b[0m\n\u001b[0m\u001b[1;32m   2552\u001b[0m     \u001b[0;32mtry\u001b[0m\u001b[0;34m:\u001b[0m\u001b[0;34m\u001b[0m\u001b[0;34m\u001b[0m\u001b[0m\n\u001b[1;32m   2553\u001b[0m         \u001b[0md\u001b[0m \u001b[0;34m=\u001b[0m \u001b[0mdiag\u001b[0m\u001b[0;34m(\u001b[0m\u001b[0mc\u001b[0m\u001b[0;34m)\u001b[0m\u001b[0;34m\u001b[0m\u001b[0;34m\u001b[0m\u001b[0m\n",
      "\u001b[0;32m<__array_function__ internals>\u001b[0m in \u001b[0;36mcov\u001b[0;34m(*args, **kwargs)\u001b[0m\n",
      "\u001b[0;32m/opt/mambaforge/envs/cs152/lib/python3.8/site-packages/numpy/lib/function_base.py\u001b[0m in \u001b[0;36mcov\u001b[0;34m(m, y, rowvar, bias, ddof, fweights, aweights)\u001b[0m\n\u001b[1;32m   2454\u001b[0m             \u001b[0mw\u001b[0m \u001b[0;34m*=\u001b[0m \u001b[0maweights\u001b[0m\u001b[0;34m\u001b[0m\u001b[0;34m\u001b[0m\u001b[0m\n\u001b[1;32m   2455\u001b[0m \u001b[0;34m\u001b[0m\u001b[0m\n\u001b[0;32m-> 2456\u001b[0;31m     \u001b[0mavg\u001b[0m\u001b[0;34m,\u001b[0m \u001b[0mw_sum\u001b[0m \u001b[0;34m=\u001b[0m \u001b[0maverage\u001b[0m\u001b[0;34m(\u001b[0m\u001b[0mX\u001b[0m\u001b[0;34m,\u001b[0m \u001b[0maxis\u001b[0m\u001b[0;34m=\u001b[0m\u001b[0;36m1\u001b[0m\u001b[0;34m,\u001b[0m \u001b[0mweights\u001b[0m\u001b[0;34m=\u001b[0m\u001b[0mw\u001b[0m\u001b[0;34m,\u001b[0m \u001b[0mreturned\u001b[0m\u001b[0;34m=\u001b[0m\u001b[0;32mTrue\u001b[0m\u001b[0;34m)\u001b[0m\u001b[0;34m\u001b[0m\u001b[0;34m\u001b[0m\u001b[0m\n\u001b[0m\u001b[1;32m   2457\u001b[0m     \u001b[0mw_sum\u001b[0m \u001b[0;34m=\u001b[0m \u001b[0mw_sum\u001b[0m\u001b[0;34m[\u001b[0m\u001b[0;36m0\u001b[0m\u001b[0;34m]\u001b[0m\u001b[0;34m\u001b[0m\u001b[0;34m\u001b[0m\u001b[0m\n\u001b[1;32m   2458\u001b[0m \u001b[0;34m\u001b[0m\u001b[0m\n",
      "\u001b[0;32m<__array_function__ internals>\u001b[0m in \u001b[0;36maverage\u001b[0;34m(*args, **kwargs)\u001b[0m\n",
      "\u001b[0;32m/opt/mambaforge/envs/cs152/lib/python3.8/site-packages/numpy/lib/function_base.py\u001b[0m in \u001b[0;36maverage\u001b[0;34m(a, axis, weights, returned)\u001b[0m\n\u001b[1;32m    413\u001b[0m \u001b[0;34m\u001b[0m\u001b[0m\n\u001b[1;32m    414\u001b[0m     \u001b[0;32mif\u001b[0m \u001b[0mreturned\u001b[0m\u001b[0;34m:\u001b[0m\u001b[0;34m\u001b[0m\u001b[0;34m\u001b[0m\u001b[0m\n\u001b[0;32m--> 415\u001b[0;31m         \u001b[0;32mif\u001b[0m \u001b[0mscl\u001b[0m\u001b[0;34m.\u001b[0m\u001b[0mshape\u001b[0m \u001b[0;34m!=\u001b[0m \u001b[0mavg\u001b[0m\u001b[0;34m.\u001b[0m\u001b[0mshape\u001b[0m\u001b[0;34m:\u001b[0m\u001b[0;34m\u001b[0m\u001b[0;34m\u001b[0m\u001b[0m\n\u001b[0m\u001b[1;32m    416\u001b[0m             \u001b[0mscl\u001b[0m \u001b[0;34m=\u001b[0m \u001b[0mnp\u001b[0m\u001b[0;34m.\u001b[0m\u001b[0mbroadcast_to\u001b[0m\u001b[0;34m(\u001b[0m\u001b[0mscl\u001b[0m\u001b[0;34m,\u001b[0m \u001b[0mavg\u001b[0m\u001b[0;34m.\u001b[0m\u001b[0mshape\u001b[0m\u001b[0;34m)\u001b[0m\u001b[0;34m.\u001b[0m\u001b[0mcopy\u001b[0m\u001b[0;34m(\u001b[0m\u001b[0;34m)\u001b[0m\u001b[0;34m\u001b[0m\u001b[0;34m\u001b[0m\u001b[0m\n\u001b[1;32m    417\u001b[0m         \u001b[0;32mreturn\u001b[0m \u001b[0mavg\u001b[0m\u001b[0;34m,\u001b[0m \u001b[0mscl\u001b[0m\u001b[0;34m\u001b[0m\u001b[0;34m\u001b[0m\u001b[0m\n",
      "\u001b[0;31mAttributeError\u001b[0m: 'float' object has no attribute 'shape'"
     ]
    }
   ],
   "source": [
    "corr = np.corrcoef(np.array(features.T))"
   ]
  },
  {
   "cell_type": "code",
   "execution_count": null,
   "id": "c8a9d14f",
   "metadata": {},
   "outputs": [],
   "source": []
  }
 ],
 "metadata": {
  "kernelspec": {
   "display_name": "Python 3 (ipykernel)",
   "language": "python",
   "name": "python3"
  },
  "language_info": {
   "codemirror_mode": {
    "name": "ipython",
    "version": 3
   },
   "file_extension": ".py",
   "mimetype": "text/x-python",
   "name": "python",
   "nbconvert_exporter": "python",
   "pygments_lexer": "ipython3",
   "version": "3.8.5"
  }
 },
 "nbformat": 4,
 "nbformat_minor": 5
}
