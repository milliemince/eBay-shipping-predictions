{
 "cells": [
  {
   "cell_type": "markdown",
   "id": "c113e1e9",
   "metadata": {},
   "source": [
    "## Feature Selection and Engineering \n",
    "In this file, we attempt to understand feature importance."
   ]
  },
  {
   "cell_type": "markdown",
   "id": "1f806aa7",
   "metadata": {},
   "source": [
    "First, we can analyze the coefficients learned by our naive linear regression network to see which features were weighted most highly"
   ]
  },
  {
   "cell_type": "code",
   "execution_count": 1,
   "id": "a61f3a45",
   "metadata": {},
   "outputs": [],
   "source": [
    "import numpy as np\n",
    "import pandas as pd\n",
    "import math\n",
    "import seaborn as sns\n",
    "import scipy as sp\n",
    "import datetime as dt\n",
    "from sklearn.linear_model import LinearRegression\n",
    "from sklearn.linear_model import Ridge\n",
    "from sklearn import linear_model\n",
    "from sklearn.svm import SVR\n",
    "from sklearn.preprocessing import normalize\n",
    "from sklearn.preprocessing import scale\n",
    "from collections import Counter\n",
    "import ziptotimezone as z\n",
    "from sklearn.model_selection import train_test_split\n",
    "import xgboost as xgb\n",
    "from sklearn.metrics import mean_squared_error\n",
    "import mpu\n",
    "from uszipcode import SearchEngine\n",
    "import pandas as pd"
   ]
  },
  {
   "cell_type": "code",
   "execution_count": 13,
   "id": "7c900f35",
   "metadata": {},
   "outputs": [],
   "source": [
    "# DATA CLEANING \n",
    "dataset = pd.read_csv('eBay_ML_Challenge_Dataset_2021_train.csv')\n",
    "\n",
    "b2c_c2c = np.array(dataset[\"b2c_c2c\"])\n",
    "seller_id = np.array(dataset[\"seller_id\"])\n",
    "declared_handling_days = np.array(dataset[\"declared_handling_days\"])\n",
    "acceptance_scan_timestamp = np.array(dataset[\"acceptance_scan_timestamp\"])\n",
    "shipment_method_id = np.array(dataset[\"shipment_method_id\"])\n",
    "shipping_fee = np.array(dataset[\"shipping_fee\"])\n",
    "carrier_min_estimate = np.array(dataset[\"carrier_min_estimate\"])\n",
    "carrier_max_estimate = np.array(dataset[\"carrier_max_estimate\"])\n",
    "item_zip = dataset[\"item_zip\"]\n",
    "buyer_zip = dataset[\"buyer_zip\"]\n",
    "category_id = np.array(dataset[\"category_id\"])\n",
    "item_price = np.array(dataset[\"item_price\"])\n",
    "quantity = np.array(dataset[\"quantity\"])\n",
    "payment_datetime = np.array(dataset[\"payment_datetime\"])\n",
    "delivery_date = np.array(dataset[\"delivery_date\"])\n",
    "weight = np.array(dataset[\"weight\"])\n",
    "weight_units = np.array(dataset[\"weight_units\"])\n",
    "package_size = np.array(dataset[\"package_size\"])\n",
    "\n",
    "def b2c_c2c_to_binary(arr):\n",
    "    if arr[0] in [0,1]:\n",
    "        print(\"Array has already been converted to numeric binary!\")\n",
    "    else:\n",
    "        for i in range(arr.shape[0]):\n",
    "            if arr[i][0] == \"B\":\n",
    "                arr[i] = 0\n",
    "            else:\n",
    "                arr[i] = 1\n",
    "            \n",
    "b2c_c2c_to_binary(b2c_c2c)\n",
    "b2c_c2c = np.array(b2c_c2c, dtype=int)\n",
    "\n",
    "def round_datetime_to_date(datetime):\n",
    "    days = datetime.days\n",
    "    hours = datetime.seconds // 3600\n",
    "    if hours > 12:\n",
    "        return days + 1\n",
    "    else:\n",
    "        return days\n",
    "\n",
    "def calculate_handling_and_delivery_days(acceptance_timestamps, payment_timestamps, delivery_date):\n",
    "    handling_labels = []\n",
    "    shipping_labels = []\n",
    "    delivery_labels = []\n",
    "    for i in range(acceptance_timestamps.shape[0]):\n",
    "        raw_payment = payment_timestamps[i]\n",
    "        raw_acceptance = acceptance_timestamps[i]\n",
    "        #parse raw_payment time string to separate year, month, date, and time\n",
    "        p_year, p_month, p_date = int(raw_payment[0:4]), int(raw_payment[5:7]), int(raw_payment[8:10])\n",
    "        p_hour, p_min, p_sec = int(raw_payment[11:13]), int(raw_payment[14:16]), int(raw_payment[17:19])\n",
    "        p_datetime = dt.datetime(year=p_year, month=p_month, day=p_date, hour=p_hour, minute=p_min, second=p_sec)\n",
    "            \n",
    "        #parse raw_acceptance time string to separate year, month, date, and time\n",
    "        raw_acceptance = acceptance_timestamps[i]\n",
    "        a_year, a_month, a_date = int(raw_acceptance[0:4]), int(raw_acceptance[5:7]), int(raw_acceptance[8:10])\n",
    "        a_hour, a_min, a_sec = int(raw_acceptance[11:13]), int(raw_acceptance[14:16]), int(raw_acceptance[17:19])\n",
    "        a_datetime = dt.datetime(year=a_year, month=a_month, day=a_date, hour=a_hour, minute=a_min, second=a_sec)\n",
    "        \n",
    "        raw_delivery = delivery_date[i]\n",
    "        d_year, d_month, d_date = int(raw_delivery[0:4]), int(raw_delivery[5:7]), int(raw_delivery[8:10])\n",
    "        d_date = dt.datetime(year=d_year, month=d_month, day=d_date, hour=17)\n",
    "        \n",
    "        #handling days = acceptance time - payment time; shipping days = delivery date - acceptance time\n",
    "        handling_days = a_datetime - p_datetime\n",
    "        shipping_days = d_date - a_datetime\n",
    "        delivery_days = d_date - p_datetime\n",
    "        \n",
    "        #round to nearest day\n",
    "        rounded_handling_days = round_datetime_to_date(handling_days)\n",
    "        rounded_shipping_days = round_datetime_to_date(shipping_days)\n",
    "        rounded_delivery_days = round_datetime_to_date(delivery_days)\n",
    "        \n",
    "        handling_labels.append(rounded_handling_days)\n",
    "        shipping_labels.append(rounded_shipping_days)\n",
    "        delivery_labels.append(rounded_delivery_days)\n",
    "        \n",
    "    return np.array(handling_labels), np.array(shipping_labels), np.array(delivery_labels)\n",
    "\n",
    "handling_days, shipping_days, delivery_days = calculate_handling_and_delivery_days(acceptance_scan_timestamp, payment_datetime, delivery_date) \n",
    "\n",
    "def convert_weights():\n",
    "    for i, unit in enumerate(weight_units):\n",
    "        if unit == 2:\n",
    "            #convert weight to lbs; 1 kg = 2.20462 lbs.\n",
    "            weight[i] *= 2.20462\n",
    "\n",
    "convert_weights()\n",
    "\n",
    "def determine_weight_averages_by_category_id():\n",
    "    category_id_weights = {}\n",
    "    for i, w in enumerate(weight):\n",
    "        category = category_id[i]\n",
    "        if category not in category_id_weights:\n",
    "            category_id_weights[category] = [w]\n",
    "        else:\n",
    "            category_id_weights[category].append(w)\n",
    "    \n",
    "    category_id_weight_means = {}\n",
    "    for category in category_id_weights:\n",
    "        weights = category_id_weights[category]\n",
    "        average_weight = np.mean(weights)\n",
    "        category_id_weight_means[category] = average_weight\n",
    "    \n",
    "    return category_id_weight_means\n",
    "\n",
    "def fill_missing_weights():\n",
    "    weight_means = determine_weight_averages_by_category_id()\n",
    "    overall_mean = np.mean(weight)\n",
    "    for i, w in enumerate(weight):\n",
    "        if w == 0:\n",
    "            #weight is missing, replace with average weight across same category id\n",
    "            category = category_id[i]\n",
    "            if category in weight_means:\n",
    "                weight[i] = weight_means[category]\n",
    "            else:\n",
    "                #don't have records for this category id, so replace with overall average\n",
    "                weight[i] = overall_mean\n",
    "\n",
    "fill_missing_weights()\n",
    "\n",
    "def string_to_numeric_package_size():\n",
    "    if type(package_size[0]) == int:\n",
    "        print(\"Already converted to discrete numeric values\")\n",
    "    else:\n",
    "        encodings = {\"LETTER\": 0, \"PACKAGE_THICK_ENVELOPE\": 1, \"LARGE_ENVELOPE\": 2,\"VERY_LARGE_PACKAGE\": 3, \n",
    "                     \"LARGE_PACKAGE\": 4, \"EXTRA_LARGE_PACKAGE\": 5, \"NONE\": -1}\n",
    "        for i, size in enumerate(package_size):\n",
    "            package_size[i] = encodings[size]\n",
    "string_to_numeric_package_size()\n",
    "\n",
    "def determine_average_weight_by_package_size():\n",
    "    package_size_weights = {}\n",
    "    for i, w in enumerate(weight):\n",
    "        p_size = package_size[i]\n",
    "        if p_size not in package_size_weights:\n",
    "            package_size_weights[p_size] = [w]\n",
    "        else:\n",
    "            package_size_weights[p_size].append(w)\n",
    "    \n",
    "    package_id_weight_means = {}\n",
    "    for p_size in package_size_weights:\n",
    "        weights = package_size_weights[p_size]\n",
    "        average_weight = np.mean(weights)\n",
    "        package_id_weight_means[p_size] = average_weight\n",
    "    \n",
    "    return package_id_weight_means\n",
    "\n",
    "def fill_missing_package_sizes():\n",
    "    weight_means = determine_average_weight_by_package_size()\n",
    "    weight_means.pop(-1, None)\n",
    "    weight_means_list = [weight_means[key] for key in weight_means]\n",
    "    for i, s in enumerate(package_size):\n",
    "        if s == -1:\n",
    "            #package size is missing, replace with package size it's weight is closest to the average of\n",
    "            w = weight[i]\n",
    "            abs_function = lambda value: abs(value-w)\n",
    "            closest_value = min(weight_means_list, key=abs_function)\n",
    "            closest_p_size = weight_means_list.index(closest_value)\n",
    "            package_size[i] = closest_p_size\n",
    "\n",
    "fill_missing_package_sizes()\n",
    "\n",
    "def determine_average_shipping_estimates_by_shipment_method():    \n",
    "    carrier_min_by_shipment_method = {}\n",
    "    carrier_max_by_shipment_method = {}\n",
    "    for i, method_id in enumerate(shipment_method_id):\n",
    "        carrier_min = carrier_min_estimate[i]\n",
    "        carrier_max = carrier_max_estimate[i]\n",
    "        if method_id not in carrier_min_by_shipment_method:\n",
    "            carrier_min_by_shipment_method[method_id] = [carrier_min]\n",
    "        else:\n",
    "            carrier_min_by_shipment_method[method_id].append(carrier_min)\n",
    "\n",
    "        if method_id not in carrier_max_by_shipment_method:\n",
    "            carrier_max_by_shipment_method[method_id] = [carrier_max]\n",
    "        else:\n",
    "            carrier_max_by_shipment_method[method_id].append(carrier_max)\n",
    "    \n",
    "    carrier_min_means = {}\n",
    "    for method_id in carrier_min_by_shipment_method:\n",
    "        min_estimates = carrier_min_by_shipment_method[method_id]\n",
    "        mean_min_estimate = np.mean(min_estimates)\n",
    "        carrier_min_means[method_id] = mean_min_estimate\n",
    "    \n",
    "    carrier_max_means = {}\n",
    "    for method_id in carrier_max_by_shipment_method:\n",
    "        max_estimates = carrier_max_by_shipment_method[method_id]\n",
    "        mean_max_estimate = np.mean(max_estimates)\n",
    "        carrier_max_means[method_id] = mean_max_estimate \n",
    "    \n",
    "    return carrier_min_means, carrier_max_means\n",
    "\n",
    "def fill_missing_carrier_estimates():\n",
    "    #consider replacing missing values with estimates with similar distance\n",
    "    carrier_min_means, carrier_max_means = determine_average_shipping_estimates_by_shipment_method()\n",
    "    overall_min_mean, overall_max_mean = np.mean(carrier_min_estimate), np.mean(carrier_max_estimate)\n",
    "    for i, estimate in enumerate(carrier_min_estimate):\n",
    "        if estimate < 0:\n",
    "            #need to fill value \n",
    "            method_id = shipment_method_id[i]\n",
    "            if method_id in carrier_min_means:\n",
    "                carrier_min_estimate[i] = carrier_min_means[method_id]\n",
    "            else:\n",
    "                carrier_min_estimate[i] = overall_min_mean\n",
    "    for i, estimate in enumerate(carrier_max_estimate):\n",
    "        if estimate < 0:\n",
    "            #need to fill value\n",
    "            method_id = shipment_method_id[i]\n",
    "            if method_id in carrier_max_means:\n",
    "                carrier_max_estimate[i] = carrier_max_means[method_id]\n",
    "            else:\n",
    "                carrier_max_estimate[i] = overall_max_mean\n",
    "\n",
    "fill_missing_carrier_estimates()\n",
    "\n",
    "def fill_missing_declared_handling_days():\n",
    "    overall_mean = np.mean(declared_handling_days)\n",
    "    seller_counts = Counter(seller_id)\n",
    "    for i, days in enumerate(declared_handling_days):\n",
    "        if np.isnan(days):\n",
    "            #need to fill\n",
    "            declared_handling_days[i] = overall_mean\n",
    "\n",
    "features = np.column_stack((b2c_c2c, seller_id, declared_handling_days, shipment_method_id, shipping_fee,\n",
    "                             carrier_min_estimate, carrier_max_estimate, category_id,\n",
    "                             item_price, weight, quantity, package_size, handling_days))\n",
    "labels = np.array(delivery_days)"
   ]
  },
  {
   "cell_type": "code",
   "execution_count": 14,
   "id": "2ab09914",
   "metadata": {},
   "outputs": [
    {
     "name": "stdout",
     "output_type": "stream",
     "text": [
      "(15000000, 13)\n"
     ]
    },
    {
     "name": "stderr",
     "output_type": "stream",
     "text": [
      "/opt/mambaforge/envs/cs152/lib/python3.8/site-packages/sklearn/preprocessing/_data.py:194: UserWarning: Numerical issues were encountered when centering the data and might not be solved. Dataset may contain too large values. You may need to prescale your features.\n",
      "  warnings.warn(\"Numerical issues were encountered \"\n"
     ]
    },
    {
     "name": "stdout",
     "output_type": "stream",
     "text": [
      "(15000000, 13)\n",
      "[ True  True  True ...  True  True  True]\n",
      "(14297114, 13)\n",
      "(14297114,)\n"
     ]
    }
   ],
   "source": [
    "print(features.shape)\n",
    "features = scale(features, with_mean = True, with_std=True)\n",
    "print(features.shape)\n",
    "indeces = ~np.isnan(features).any(axis=1)\n",
    "print(indeces)\n",
    "features = features[~np.isnan(features).any(axis=1)]\n",
    "print(features.shape)\n",
    "labels = labels[indeces]\n",
    "handling_days = handling_days[indeces]\n",
    "shipping_days = shipping_days[indeces]\n",
    "print(labels.shape)"
   ]
  },
  {
   "cell_type": "code",
   "execution_count": 15,
   "id": "b94fff13",
   "metadata": {},
   "outputs": [],
   "source": [
    "features = features[:, :-1]"
   ]
  },
  {
   "cell_type": "code",
   "execution_count": 16,
   "id": "3a966ea9",
   "metadata": {},
   "outputs": [
    {
     "data": {
      "text/plain": [
       "LinearRegression()"
      ]
     },
     "execution_count": 16,
     "metadata": {},
     "output_type": "execute_result"
    }
   ],
   "source": [
    "model = LinearRegression()\n",
    "model.fit(features, labels)"
   ]
  },
  {
   "cell_type": "code",
   "execution_count": 17,
   "id": "15816f3e",
   "metadata": {},
   "outputs": [
    {
     "name": "stdout",
     "output_type": "stream",
     "text": [
      "[-8.09795735e-02  6.55274933e-02  8.86068784e-01  2.11399948e-02\n",
      " -6.52588741e-02  1.51823145e-01  4.41767331e-01  1.02764189e-01\n",
      " -2.32173062e-02 -4.01198415e-04  9.72705709e-03  6.45949975e-02]\n"
     ]
    }
   ],
   "source": [
    "print(model.coef_)"
   ]
  },
  {
   "cell_type": "markdown",
   "id": "5e908504",
   "metadata": {},
   "source": [
    "What if we use lasso regression? An $l_1$ norm will push irrelevant features weights to 0. This will tell us which features are unimportant to the shipping prediction"
   ]
  },
  {
   "cell_type": "code",
   "execution_count": 18,
   "id": "e08478d4",
   "metadata": {},
   "outputs": [
    {
     "data": {
      "text/plain": [
       "Lasso()"
      ]
     },
     "execution_count": 18,
     "metadata": {},
     "output_type": "execute_result"
    }
   ],
   "source": [
    "lasso_model = linear_model.Lasso(alpha=1.0)\n",
    "lasso_model.fit(features, labels)"
   ]
  },
  {
   "cell_type": "code",
   "execution_count": 19,
   "id": "2a93eba9",
   "metadata": {},
   "outputs": [
    {
     "name": "stdout",
     "output_type": "stream",
     "text": [
      "[ 0.  0.  0.  0.  0. -0.  0.  0. -0.  0. -0.  0.]\n"
     ]
    }
   ],
   "source": [
    "print(lasso_model.coef_)"
   ]
  },
  {
   "cell_type": "markdown",
   "id": "10f5b325",
   "metadata": {},
   "source": [
    "Finally, let's use the visualization package __ to visualize the trees learned by XGBoost"
   ]
  },
  {
   "cell_type": "markdown",
   "id": "b978ecc1",
   "metadata": {},
   "source": [
    "Now that we've learned more about feature importance for the entire delivery prediction (handling time + shipping time), it may be useful to look into whether some features are only important for the handling portion and don't affect the shipment portion, and vice versa. So we will apply the tactics above both (1) when the labels are only the handling time, and (2) when the labels are only the shipment time."
   ]
  },
  {
   "cell_type": "code",
   "execution_count": 20,
   "id": "0a98f53a",
   "metadata": {},
   "outputs": [
    {
     "name": "stdout",
     "output_type": "stream",
     "text": [
      "[-0.07389143  0.05425154  0.86970894 -0.01883299 -0.03151593  0.00414523\n",
      "  0.02560026  0.02273071  0.00155812  0.0014169   0.0193101  -0.01256442]\n"
     ]
    }
   ],
   "source": [
    "handling_linreg = LinearRegression()\n",
    "handling_linreg.fit(features, handling_days)\n",
    "print(handling_linreg.coef_)"
   ]
  },
  {
   "cell_type": "code",
   "execution_count": 21,
   "id": "b5160c87",
   "metadata": {},
   "outputs": [
    {
     "name": "stdout",
     "output_type": "stream",
     "text": [
      "[-0.01864717  0.01194991  0.01481685  0.03913644 -0.03807706  0.14917728\n",
      "  0.4133649   0.07600417 -0.02316963 -0.00150535 -0.00724451  0.07959303]\n"
     ]
    }
   ],
   "source": [
    "shipping_linreg = LinearRegression()\n",
    "shipping_linreg.fit(features, shipping_days)\n",
    "print(shipping_linreg.coef_)"
   ]
  },
  {
   "cell_type": "code",
   "execution_count": 22,
   "id": "11de0b84",
   "metadata": {},
   "outputs": [
    {
     "name": "stdout",
     "output_type": "stream",
     "text": [
      "[-0.          0.          0.81013996 -0.         -0.          0.\n",
      "  0.          0.          0.          0.          0.         -0.        ]\n"
     ]
    }
   ],
   "source": [
    "lasso_handling = linear_model.Lasso(alpha=0.05)\n",
    "lasso_handling.fit(features, handling_days)\n",
    "print(lasso_handling.coef_)"
   ]
  },
  {
   "cell_type": "code",
   "execution_count": 23,
   "id": "8819b271",
   "metadata": {},
   "outputs": [
    {
     "name": "stdout",
     "output_type": "stream",
     "text": [
      "[-0.         -0.          0.          0.         -0.          0.\n",
      "  0.22663033  0.         -0.         -0.         -0.          0.        ]\n"
     ]
    }
   ],
   "source": [
    "lasso_shipping = linear_model.Lasso(alpha=0.15)\n",
    "lasso_shipping.fit(features, shipping_days)\n",
    "print(lasso_shipping.coef_)"
   ]
  },
  {
   "cell_type": "code",
   "execution_count": 27,
   "id": "439fd862",
   "metadata": {},
   "outputs": [
    {
     "name": "stdout",
     "output_type": "stream",
     "text": [
      "11\n"
     ]
    }
   ],
   "source": [
    "from collections import Counter\n",
    "c = Counter(buyer_zip)\n",
    "print(c[\"00000\"])"
   ]
  },
  {
   "cell_type": "code",
   "execution_count": null,
   "id": "bd6a6b24",
   "metadata": {},
   "outputs": [],
   "source": []
  },
  {
   "cell_type": "code",
   "execution_count": null,
   "id": "60a6c1fc",
   "metadata": {},
   "outputs": [],
   "source": []
  },
  {
   "cell_type": "code",
   "execution_count": null,
   "id": "fff9b73d",
   "metadata": {},
   "outputs": [],
   "source": []
  }
 ],
 "metadata": {
  "kernelspec": {
   "display_name": "Python 3 (ipykernel)",
   "language": "python",
   "name": "python3"
  },
  "language_info": {
   "codemirror_mode": {
    "name": "ipython",
    "version": 3
   },
   "file_extension": ".py",
   "mimetype": "text/x-python",
   "name": "python",
   "nbconvert_exporter": "python",
   "pygments_lexer": "ipython3",
   "version": "3.8.5"
  }
 },
 "nbformat": 4,
 "nbformat_minor": 5
}
